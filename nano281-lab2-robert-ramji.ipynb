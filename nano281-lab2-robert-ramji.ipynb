{
 "cells": [
  {
   "cell_type": "markdown",
   "metadata": {},
   "source": [
    "# Robert's Second Lab \n",
    "## doing actual data science!"
   ]
  },
  {
   "cell_type": "code",
   "execution_count": null,
   "metadata": {},
   "outputs": [],
   "source": [
    "import pandas as pd\n",
    "import numpy as np\n",
    "import seaborn as sns\n",
    "import pymatgen as mp\n",
    "from pprint import pprint"
   ]
  },
  {
   "cell_type": "markdown",
   "metadata": {},
   "source": [
    "## Question 1"
   ]
  },
  {
   "cell_type": "code",
   "execution_count": 2,
   "metadata": {},
   "outputs": [
    {
     "data": {
      "text/html": [
       "<div>\n",
       "<style scoped>\n",
       "    .dataframe tbody tr th:only-of-type {\n",
       "        vertical-align: middle;\n",
       "    }\n",
       "\n",
       "    .dataframe tbody tr th {\n",
       "        vertical-align: top;\n",
       "    }\n",
       "\n",
       "    .dataframe thead th {\n",
       "        text-align: right;\n",
       "    }\n",
       "</style>\n",
       "<table border=\"1\" class=\"dataframe\">\n",
       "  <thead>\n",
       "    <tr style=\"text-align: right;\">\n",
       "      <th></th>\n",
       "      <th>task_id</th>\n",
       "      <th>formula</th>\n",
       "      <th>formation_energy_per_atom</th>\n",
       "      <th>e_above_hull</th>\n",
       "      <th>band_gap</th>\n",
       "      <th>has_bandstructure</th>\n",
       "    </tr>\n",
       "  </thead>\n",
       "  <tbody>\n",
       "    <tr>\n",
       "      <th>0</th>\n",
       "      <td>mp-1007923</td>\n",
       "      <td>CrNi3</td>\n",
       "      <td>-0.016354</td>\n",
       "      <td>0.000802</td>\n",
       "      <td>0.0</td>\n",
       "      <td>False</td>\n",
       "    </tr>\n",
       "    <tr>\n",
       "      <th>1</th>\n",
       "      <td>mp-1008754</td>\n",
       "      <td>TbHg2</td>\n",
       "      <td>-0.069428</td>\n",
       "      <td>0.329909</td>\n",
       "      <td>0.0</td>\n",
       "      <td>True</td>\n",
       "    </tr>\n",
       "    <tr>\n",
       "      <th>2</th>\n",
       "      <td>mp-1016886</td>\n",
       "      <td>MgVO3</td>\n",
       "      <td>-2.241438</td>\n",
       "      <td>0.545977</td>\n",
       "      <td>0.0</td>\n",
       "      <td>True</td>\n",
       "    </tr>\n",
       "    <tr>\n",
       "      <th>3</th>\n",
       "      <td>mp-1018902</td>\n",
       "      <td>PrSbPt</td>\n",
       "      <td>-1.111238</td>\n",
       "      <td>0.000000</td>\n",
       "      <td>0.0</td>\n",
       "      <td>True</td>\n",
       "    </tr>\n",
       "    <tr>\n",
       "      <th>4</th>\n",
       "      <td>mp-1020595</td>\n",
       "      <td>Rb8PO3</td>\n",
       "      <td>-0.772860</td>\n",
       "      <td>0.491666</td>\n",
       "      <td>0.0</td>\n",
       "      <td>True</td>\n",
       "    </tr>\n",
       "  </tbody>\n",
       "</table>\n",
       "</div>"
      ],
      "text/plain": [
       "      task_id formula  formation_energy_per_atom  e_above_hull  band_gap  \\\n",
       "0  mp-1007923   CrNi3                  -0.016354      0.000802       0.0   \n",
       "1  mp-1008754   TbHg2                  -0.069428      0.329909       0.0   \n",
       "2  mp-1016886   MgVO3                  -2.241438      0.545977       0.0   \n",
       "3  mp-1018902  PrSbPt                  -1.111238      0.000000       0.0   \n",
       "4  mp-1020595  Rb8PO3                  -0.772860      0.491666       0.0   \n",
       "\n",
       "   has_bandstructure  \n",
       "0              False  \n",
       "1               True  \n",
       "2               True  \n",
       "3               True  \n",
       "4               True  "
      ]
     },
     "execution_count": 2,
     "metadata": {},
     "output_type": "execute_result"
    }
   ],
   "source": [
    "orig_data = pd.read_csv(\"data.csv\", na_filter=False)\n",
    "orig_data.head()"
   ]
  },
  {
   "cell_type": "markdown",
   "metadata": {},
   "source": [
    "**1.1 How many elements?**"
   ]
  },
  {
   "cell_type": "code",
   "execution_count": 3,
   "metadata": {},
   "outputs": [
    {
     "data": {
      "text/plain": [
       "(124515, 6)"
      ]
     },
     "execution_count": 3,
     "metadata": {},
     "output_type": "execute_result"
    }
   ],
   "source": [
    "orig_data.shape"
   ]
  },
  {
   "cell_type": "code",
   "execution_count": 4,
   "metadata": {},
   "outputs": [
    {
     "data": {
      "text/html": [
       "<div>\n",
       "<style scoped>\n",
       "    .dataframe tbody tr th:only-of-type {\n",
       "        vertical-align: middle;\n",
       "    }\n",
       "\n",
       "    .dataframe tbody tr th {\n",
       "        vertical-align: top;\n",
       "    }\n",
       "\n",
       "    .dataframe thead th {\n",
       "        text-align: right;\n",
       "    }\n",
       "</style>\n",
       "<table border=\"1\" class=\"dataframe\">\n",
       "  <thead>\n",
       "    <tr style=\"text-align: right;\">\n",
       "      <th></th>\n",
       "      <th>task_id</th>\n",
       "      <th>formula</th>\n",
       "      <th>formation_energy_per_atom</th>\n",
       "      <th>e_above_hull</th>\n",
       "      <th>band_gap</th>\n",
       "      <th>has_bandstructure</th>\n",
       "    </tr>\n",
       "  </thead>\n",
       "  <tbody>\n",
       "    <tr>\n",
       "      <th>count</th>\n",
       "      <td>124515</td>\n",
       "      <td>124515</td>\n",
       "      <td>124515.000000</td>\n",
       "      <td>124515.000000</td>\n",
       "      <td>124515.000000</td>\n",
       "      <td>124515</td>\n",
       "    </tr>\n",
       "    <tr>\n",
       "      <th>unique</th>\n",
       "      <td>124515</td>\n",
       "      <td>89466</td>\n",
       "      <td>NaN</td>\n",
       "      <td>NaN</td>\n",
       "      <td>NaN</td>\n",
       "      <td>2</td>\n",
       "    </tr>\n",
       "    <tr>\n",
       "      <th>top</th>\n",
       "      <td>mp-1019324</td>\n",
       "      <td>Li9Mn2Co5O16</td>\n",
       "      <td>NaN</td>\n",
       "      <td>NaN</td>\n",
       "      <td>NaN</td>\n",
       "      <td>False</td>\n",
       "    </tr>\n",
       "    <tr>\n",
       "      <th>freq</th>\n",
       "      <td>1</td>\n",
       "      <td>689</td>\n",
       "      <td>NaN</td>\n",
       "      <td>NaN</td>\n",
       "      <td>NaN</td>\n",
       "      <td>71688</td>\n",
       "    </tr>\n",
       "    <tr>\n",
       "      <th>mean</th>\n",
       "      <td>NaN</td>\n",
       "      <td>NaN</td>\n",
       "      <td>-1.410472</td>\n",
       "      <td>0.148873</td>\n",
       "      <td>1.075733</td>\n",
       "      <td>NaN</td>\n",
       "    </tr>\n",
       "    <tr>\n",
       "      <th>std</th>\n",
       "      <td>NaN</td>\n",
       "      <td>NaN</td>\n",
       "      <td>1.211580</td>\n",
       "      <td>0.420030</td>\n",
       "      <td>1.525219</td>\n",
       "      <td>NaN</td>\n",
       "    </tr>\n",
       "    <tr>\n",
       "      <th>min</th>\n",
       "      <td>NaN</td>\n",
       "      <td>NaN</td>\n",
       "      <td>-4.618361</td>\n",
       "      <td>0.000000</td>\n",
       "      <td>0.000000</td>\n",
       "      <td>NaN</td>\n",
       "    </tr>\n",
       "    <tr>\n",
       "      <th>25%</th>\n",
       "      <td>NaN</td>\n",
       "      <td>NaN</td>\n",
       "      <td>-2.408562</td>\n",
       "      <td>0.000000</td>\n",
       "      <td>0.000000</td>\n",
       "      <td>NaN</td>\n",
       "    </tr>\n",
       "    <tr>\n",
       "      <th>50%</th>\n",
       "      <td>NaN</td>\n",
       "      <td>NaN</td>\n",
       "      <td>-1.438384</td>\n",
       "      <td>0.030278</td>\n",
       "      <td>0.110600</td>\n",
       "      <td>NaN</td>\n",
       "    </tr>\n",
       "    <tr>\n",
       "      <th>75%</th>\n",
       "      <td>NaN</td>\n",
       "      <td>NaN</td>\n",
       "      <td>-0.459684</td>\n",
       "      <td>0.101252</td>\n",
       "      <td>1.900000</td>\n",
       "      <td>NaN</td>\n",
       "    </tr>\n",
       "    <tr>\n",
       "      <th>max</th>\n",
       "      <td>NaN</td>\n",
       "      <td>NaN</td>\n",
       "      <td>5.355523</td>\n",
       "      <td>6.369051</td>\n",
       "      <td>17.902300</td>\n",
       "      <td>NaN</td>\n",
       "    </tr>\n",
       "  </tbody>\n",
       "</table>\n",
       "</div>"
      ],
      "text/plain": [
       "           task_id       formula  formation_energy_per_atom   e_above_hull  \\\n",
       "count       124515        124515              124515.000000  124515.000000   \n",
       "unique      124515         89466                        NaN            NaN   \n",
       "top     mp-1019324  Li9Mn2Co5O16                        NaN            NaN   \n",
       "freq             1           689                        NaN            NaN   \n",
       "mean           NaN           NaN                  -1.410472       0.148873   \n",
       "std            NaN           NaN                   1.211580       0.420030   \n",
       "min            NaN           NaN                  -4.618361       0.000000   \n",
       "25%            NaN           NaN                  -2.408562       0.000000   \n",
       "50%            NaN           NaN                  -1.438384       0.030278   \n",
       "75%            NaN           NaN                  -0.459684       0.101252   \n",
       "max            NaN           NaN                   5.355523       6.369051   \n",
       "\n",
       "             band_gap has_bandstructure  \n",
       "count   124515.000000            124515  \n",
       "unique            NaN                 2  \n",
       "top               NaN             False  \n",
       "freq              NaN             71688  \n",
       "mean         1.075733               NaN  \n",
       "std          1.525219               NaN  \n",
       "min          0.000000               NaN  \n",
       "25%          0.000000               NaN  \n",
       "50%          0.110600               NaN  \n",
       "75%          1.900000               NaN  \n",
       "max         17.902300               NaN  "
      ]
     },
     "execution_count": 4,
     "metadata": {},
     "output_type": "execute_result"
    }
   ],
   "source": [
    "orig_data.describe(include=\"all\")"
   ]
  },
  {
   "cell_type": "code",
   "execution_count": 5,
   "metadata": {},
   "outputs": [
    {
     "data": {
      "text/plain": [
       "count           124515\n",
       "unique           89466\n",
       "top       Li9Mn2Co5O16\n",
       "freq               689\n",
       "Name: formula, dtype: object"
      ]
     },
     "execution_count": 5,
     "metadata": {},
     "output_type": "execute_result"
    }
   ],
   "source": [
    "orig_data['formula'].describe()"
   ]
  },
  {
   "cell_type": "code",
   "execution_count": 6,
   "metadata": {
    "scrolled": true
   },
   "outputs": [],
   "source": [
    "orig_data['composition'] = [mp.Composition(c) for c in orig_data['formula']]"
   ]
  },
  {
   "cell_type": "code",
   "execution_count": 7,
   "metadata": {},
   "outputs": [
    {
     "name": "stdout",
     "output_type": "stream",
     "text": [
      "K4Ba2Na4Ti8MnSi16(W4O29)2\n"
     ]
    }
   ],
   "source": [
    "holder1 = 'abc'\n",
    "for i in orig_data['formula']:\n",
    "    if len(holder1) < len(i):\n",
    "        holder1 = i\n",
    "print(holder1)"
   ]
  },
  {
   "cell_type": "code",
   "execution_count": 8,
   "metadata": {},
   "outputs": [
    {
     "name": "stdout",
     "output_type": "stream",
     "text": [
      "U\n"
     ]
    }
   ],
   "source": [
    "holder1 = 'abc'\n",
    "for i in orig_data['formula']:\n",
    "    if len(holder1) > len(i):\n",
    "        holder1 = i\n",
    "print(holder1)"
   ]
  },
  {
   "cell_type": "code",
   "execution_count": 9,
   "metadata": {},
   "outputs": [
    {
     "data": {
      "text/plain": [
       "0                    (Cr, Ni)\n",
       "1                    (Tb, Hg)\n",
       "2                  (Mg, V, O)\n",
       "3                (Pr, Sb, Pt)\n",
       "4                  (Rb, P, O)\n",
       "                 ...         \n",
       "124510            (Zn, Mo, O)\n",
       "124511             (Mg, V, O)\n",
       "124512            (Ca, Co, O)\n",
       "124513     (Ca, La, Cr, W, O)\n",
       "124514    (Ca, La, Cr, Sn, O)\n",
       "Name: composition, Length: 124515, dtype: object"
      ]
     },
     "execution_count": 9,
     "metadata": {},
     "output_type": "execute_result"
    }
   ],
   "source": [
    "orig_data['composition']"
   ]
  },
  {
   "cell_type": "code",
   "execution_count": 17,
   "metadata": {},
   "outputs": [],
   "source": [
    "orig_data['n_el'] = [len(i) for i in orig_data['composition']]"
   ]
  },
  {
   "cell_type": "markdown",
   "metadata": {},
   "source": [
    "**1.2: Max elements in single structure?**\n",
    "\n",
    "Answer is 9"
   ]
  },
  {
   "cell_type": "code",
   "execution_count": 20,
   "metadata": {},
   "outputs": [
    {
     "data": {
      "text/plain": [
       "count    124515.000000\n",
       "mean          3.319062\n",
       "std           0.905356\n",
       "min           1.000000\n",
       "25%           3.000000\n",
       "50%           3.000000\n",
       "75%           4.000000\n",
       "max           9.000000\n",
       "Name: n_el, dtype: float64"
      ]
     },
     "execution_count": 20,
     "metadata": {},
     "output_type": "execute_result"
    }
   ],
   "source": [
    "orig_data['n_el'].describe()"
   ]
  },
  {
   "cell_type": "markdown",
   "metadata": {},
   "source": [
    "**1.3 Plot distribution of #elements per structure in the dataset**"
   ]
  },
  {
   "cell_type": "code",
   "execution_count": 28,
   "metadata": {},
   "outputs": [
    {
     "data": {
      "image/png": "[encoded data removed]",
      "text/plain": [
       "<Figure size 432x288 with 1 Axes>"
      ]
     },
     "metadata": {
      "needs_background": "light"
     },
     "output_type": "display_data"
    }
   ],
   "source": [
    "ax = sns.distplot(orig_data['n_el'], kde=False)\n",
    "ax.set_yscale('log')"
   ]
  },
  {
   "cell_type": "markdown",
   "metadata": {},
   "source": [
    "**1.4 Finding 10 most common and 10 least commonly occuring elements in compounds**"
   ]
  },
  {
   "cell_type": "code",
   "execution_count": 42,
   "metadata": {},
   "outputs": [],
   "source": [
    "#instantiate the dictionary\n",
    "element_occurrences = {}\n",
    "# look through every entry in the composition column\n",
    "for comp in orig_data['composition']:\n",
    "    #look through every element in each composition\n",
    "    for element in comp:\n",
    "        #if we haven't seen this element before, add it to our dictionary\n",
    "        #and set the count equal to 1 (first occurence!)\n",
    "        if element not in element_occurrences:\n",
    "            element_occurrences[element] = 1\n",
    "        # if we've seen it before, add another occurence to the count\n",
    "        elif element in element_occurrences:\n",
    "            # add 1 to the count of the element\n",
    "            element_occurrences[element] += 1\n",
    "            # element_occurrences[element] = element_occurrences[element] + 1"
   ]
  },
  {
   "cell_type": "code",
   "execution_count": 44,
   "metadata": {},
   "outputs": [
    {
     "name": "stdout",
     "output_type": "stream",
     "text": [
      "{Element Cs: 3549,\n",
      " Element K: 6398,\n",
      " Element Rb: 3814,\n",
      " Element Ba: 6092,\n",
      " Element Na: 7296,\n",
      " Element Sr: 5117,\n",
      " Element Li: 18580,\n",
      " Element Ca: 6328,\n",
      " Element Ac: 297,\n",
      " Element La: 4256,\n",
      " Element Tb: 1741,\n",
      " Element Yb: 1872,\n",
      " Element Ce: 2650,\n",
      " Element Pm: 515,\n",
      " Element Pr: 2276,\n",
      " Element Nd: 2574,\n",
      " Element Sm: 2335,\n",
      " Element Eu: 1610,\n",
      " Element Gd: 1444,\n",
      " Element Dy: 1874,\n",
      " Element Y: 3814,\n",
      " Element Ho: 1886,\n",
      " Element Er: 1930,\n",
      " Element Tm: 1495,\n",
      " Element Lu: 1465,\n",
      " Element Pu: 388,\n",
      " Element Hf: 1642,\n",
      " Element Th: 972,\n",
      " Element Mg: 8711,\n",
      " Element Zr: 2722,\n",
      " Element Np: 340,\n",
      " Element Sc: 2060,\n",
      " Element U: 2061,\n",
      " Element Pa: 253,\n",
      " Element Ta: 2384,\n",
      " Element Ti: 5723,\n",
      " Element Mn: 11233,\n",
      " Element Be: 1065,\n",
      " Element Nb: 3248,\n",
      " Element Al: 6446,\n",
      " Element Tl: 2632,\n",
      " Element V: 7276,\n",
      " Element Zn: 5235,\n",
      " Element Cr: 5368,\n",
      " Element Cd: 2880,\n",
      " Element In: 3599,\n",
      " Element Ga: 4024,\n",
      " Element Fe: 10109,\n",
      " Element Co: 8612,\n",
      " Element Cu: 7999,\n",
      " Element Re: 1313,\n",
      " Element Si: 8940,\n",
      " Element Tc: 648,\n",
      " Element Ni: 6767,\n",
      " Element Ag: 3540,\n",
      " Element Sn: 4722,\n",
      " Element Hg: 2127,\n",
      " Element Ge: 4482,\n",
      " Element Bi: 3782,\n",
      " Element B: 5405,\n",
      " Element Sb: 4630,\n",
      " Element Te: 4167,\n",
      " Element Mo: 4226,\n",
      " Element As: 3425,\n",
      " Element P: 13321,\n",
      " Element H: 8067,\n",
      " Element Ir: 1861,\n",
      " Element Os: 1107,\n",
      " Element Pd: 2755,\n",
      " Element Ru: 2145,\n",
      " Element Pt: 2224,\n",
      " Element Rh: 2298,\n",
      " Element Pb: 2624,\n",
      " Element W: 3683,\n",
      " Element Au: 2343,\n",
      " Element C: 7521,\n",
      " Element Se: 5500,\n",
      " Element S: 10516,\n",
      " Element Xe: 147,\n",
      " Element I: 2715,\n",
      " Element Br: 2691,\n",
      " Element Kr: 15,\n",
      " Element N: 9723,\n",
      " Element Cl: 5608,\n",
      " Element O: 60428,\n",
      " Element F: 9606,\n",
      " Element Ar: 2,\n",
      " Element He: 8,\n",
      " Element Ne: 1}\n"
     ]
    },
    {
     "name": "stderr",
     "output_type": "stream",
     "text": [
      "/home/rramji/miniconda3/envs/nano281/lib/python3.7/site-packages/pymatgen/core/periodic_table.py:426: UserWarning: No electronegativity for He. Setting to NaN. This has no physical meaning, and is mainly done to avoid errors caused by the code expecting a float.\n",
      "  % self.symbol)\n",
      "/home/rramji/miniconda3/envs/nano281/lib/python3.7/site-packages/pymatgen/core/periodic_table.py:426: UserWarning: No electronegativity for Ne. Setting to NaN. This has no physical meaning, and is mainly done to avoid errors caused by the code expecting a float.\n",
      "  % self.symbol)\n",
      "/home/rramji/miniconda3/envs/nano281/lib/python3.7/site-packages/pymatgen/core/periodic_table.py:426: UserWarning: No electronegativity for Ar. Setting to NaN. This has no physical meaning, and is mainly done to avoid errors caused by the code expecting a float.\n",
      "  % self.symbol)\n"
     ]
    }
   ],
   "source": [
    "pprint(element_occurrences)"
   ]
  },
  {
   "cell_type": "code",
   "execution_count": 122,
   "metadata": {},
   "outputs": [],
   "source": [
    "for i in element_occurrences:\n",
    "    element_occurrences[i] = [element_occurrences[i]]\n",
    "orig_data_elements = pd.DataFrame(element_occurrences)\n",
    "df = orig_data_elements.T\n",
    "df['count'] = df[0]\n",
    "df = df.drop(0, axis=1)\n",
    "df = df.sort_values(by=['count'])"
   ]
  },
  {
   "cell_type": "markdown",
   "metadata": {},
   "source": [
    "**10 least commonly occuring elements, number of occurences in compounds**"
   ]
  },
  {
   "cell_type": "code",
   "execution_count": 123,
   "metadata": {},
   "outputs": [
    {
     "data": {
      "text/html": [
       "<div>\n",
       "<style scoped>\n",
       "    .dataframe tbody tr th:only-of-type {\n",
       "        vertical-align: middle;\n",
       "    }\n",
       "\n",
       "    .dataframe tbody tr th {\n",
       "        vertical-align: top;\n",
       "    }\n",
       "\n",
       "    .dataframe thead th {\n",
       "        text-align: right;\n",
       "    }\n",
       "</style>\n",
       "<table border=\"1\" class=\"dataframe\">\n",
       "  <thead>\n",
       "    <tr style=\"text-align: right;\">\n",
       "      <th></th>\n",
       "      <th>count</th>\n",
       "    </tr>\n",
       "  </thead>\n",
       "  <tbody>\n",
       "    <tr>\n",
       "      <th>Ne</th>\n",
       "      <td>[1]</td>\n",
       "    </tr>\n",
       "    <tr>\n",
       "      <th>Ar</th>\n",
       "      <td>[2]</td>\n",
       "    </tr>\n",
       "    <tr>\n",
       "      <th>He</th>\n",
       "      <td>[8]</td>\n",
       "    </tr>\n",
       "    <tr>\n",
       "      <th>Kr</th>\n",
       "      <td>[15]</td>\n",
       "    </tr>\n",
       "    <tr>\n",
       "      <th>Xe</th>\n",
       "      <td>[147]</td>\n",
       "    </tr>\n",
       "    <tr>\n",
       "      <th>Pa</th>\n",
       "      <td>[253]</td>\n",
       "    </tr>\n",
       "    <tr>\n",
       "      <th>Ac</th>\n",
       "      <td>[297]</td>\n",
       "    </tr>\n",
       "    <tr>\n",
       "      <th>Np</th>\n",
       "      <td>[340]</td>\n",
       "    </tr>\n",
       "    <tr>\n",
       "      <th>Pu</th>\n",
       "      <td>[388]</td>\n",
       "    </tr>\n",
       "    <tr>\n",
       "      <th>Pm</th>\n",
       "      <td>[515]</td>\n",
       "    </tr>\n",
       "  </tbody>\n",
       "</table>\n",
       "</div>"
      ],
      "text/plain": [
       "    count\n",
       "Ne    [1]\n",
       "Ar    [2]\n",
       "He    [8]\n",
       "Kr   [15]\n",
       "Xe  [147]\n",
       "Pa  [253]\n",
       "Ac  [297]\n",
       "Np  [340]\n",
       "Pu  [388]\n",
       "Pm  [515]"
      ]
     },
     "execution_count": 123,
     "metadata": {},
     "output_type": "execute_result"
    }
   ],
   "source": [
    "df.head(10)"
   ]
  },
  {
   "cell_type": "markdown",
   "metadata": {},
   "source": [
    "**10 most commonly occuring elements, number of occurences in compounds**"
   ]
  },
  {
   "cell_type": "code",
   "execution_count": 124,
   "metadata": {},
   "outputs": [
    {
     "data": {
      "text/html": [
       "<div>\n",
       "<style scoped>\n",
       "    .dataframe tbody tr th:only-of-type {\n",
       "        vertical-align: middle;\n",
       "    }\n",
       "\n",
       "    .dataframe tbody tr th {\n",
       "        vertical-align: top;\n",
       "    }\n",
       "\n",
       "    .dataframe thead th {\n",
       "        text-align: right;\n",
       "    }\n",
       "</style>\n",
       "<table border=\"1\" class=\"dataframe\">\n",
       "  <thead>\n",
       "    <tr style=\"text-align: right;\">\n",
       "      <th></th>\n",
       "      <th>count</th>\n",
       "    </tr>\n",
       "  </thead>\n",
       "  <tbody>\n",
       "    <tr>\n",
       "      <th>Mg</th>\n",
       "      <td>[8711]</td>\n",
       "    </tr>\n",
       "    <tr>\n",
       "      <th>Si</th>\n",
       "      <td>[8940]</td>\n",
       "    </tr>\n",
       "    <tr>\n",
       "      <th>F</th>\n",
       "      <td>[9606]</td>\n",
       "    </tr>\n",
       "    <tr>\n",
       "      <th>N</th>\n",
       "      <td>[9723]</td>\n",
       "    </tr>\n",
       "    <tr>\n",
       "      <th>Fe</th>\n",
       "      <td>[10109]</td>\n",
       "    </tr>\n",
       "    <tr>\n",
       "      <th>S</th>\n",
       "      <td>[10516]</td>\n",
       "    </tr>\n",
       "    <tr>\n",
       "      <th>Mn</th>\n",
       "      <td>[11233]</td>\n",
       "    </tr>\n",
       "    <tr>\n",
       "      <th>P</th>\n",
       "      <td>[13321]</td>\n",
       "    </tr>\n",
       "    <tr>\n",
       "      <th>Li</th>\n",
       "      <td>[18580]</td>\n",
       "    </tr>\n",
       "    <tr>\n",
       "      <th>O</th>\n",
       "      <td>[60428]</td>\n",
       "    </tr>\n",
       "  </tbody>\n",
       "</table>\n",
       "</div>"
      ],
      "text/plain": [
       "      count\n",
       "Mg   [8711]\n",
       "Si   [8940]\n",
       "F    [9606]\n",
       "N    [9723]\n",
       "Fe  [10109]\n",
       "S   [10516]\n",
       "Mn  [11233]\n",
       "P   [13321]\n",
       "Li  [18580]\n",
       "O   [60428]"
      ]
     },
     "execution_count": 124,
     "metadata": {},
     "output_type": "execute_result"
    }
   ],
   "source": [
    "df.tail(10)"
   ]
  },
  {
   "cell_type": "markdown",
   "metadata": {},
   "source": [
    "## Question 2"
   ]
  },
  {
   "cell_type": "code",
   "execution_count": 111,
   "metadata": {},
   "outputs": [
    {
     "name": "stdout",
     "output_type": "stream",
     "text": [
      "Ni1 Xe2 F16\n",
      "He1 Si1 O2\n",
      "Xe2 N1 O2 F13\n",
      "Mg1 As2 Xe2 F18\n",
      "Hg1 Sb3 Xe1 F17\n",
      "Xe1 F3\n",
      "Cu1 Sb2 Xe2 F16\n",
      "Hg1 P2 Xe5 F22\n",
      "Kr1\n",
      "Au1 Xe1 F9\n",
      "As1 Xe1 O3 F6\n",
      "Sb1 Xe2 O1 F15\n",
      "Sb1 Xe1 F9\n",
      "P2 Pb1 Xe3 F18\n",
      "Sb1 Xe1 O2 F7\n",
      "Cu1 Sb2 Xe6 F24\n",
      "He1\n",
      "Os1 Xe2 O3 F14\n",
      "As1 Xe1 O2 F7\n",
      "Te1 As1 Xe1 O2 F11\n",
      "As1 S1 Xe1 N1 F10\n",
      "Ba1 Sb2 Xe5 F22\n",
      "Cd1 B2 Xe1 F10\n",
      "Xe1\n",
      "Fe4 Ag1 Xe1 F5\n",
      "Xe1\n",
      "Na4 Xe1 O12\n",
      "Xe1 N1 O2 F5\n",
      "He1 Si1 O2\n",
      "S1 Xe1 O3 F2\n",
      "Ne1\n",
      "Pt1 Xe1 F11\n",
      "Zn1 Sb3 Xe1 F23\n",
      "Bi1 Kr1 F7\n",
      "Kr1\n",
      "Xe1\n",
      "Na4 Xe1 O12\n",
      "Ba1 As2 Xe5 F22\n",
      "Sb2 Xe1 F15\n",
      "Nd2 As6 Xe5 F46\n",
      "Te1 As1 H1 Xe1 N1 F11\n",
      "Kr1 F2\n",
      "Cs2 Xe1 Br4 F28\n",
      "As1 Kr1 F7\n",
      "As1 Xe2 O1 F10\n",
      "Ge1 Xe1 F10\n",
      "Xe1\n",
      "Hg2 Sb7 H2 Xe3 F59\n",
      "Os1 Xe1 O4 F6\n",
      "Sb1 Kr1 F7\n",
      "Ar1\n",
      "Ba1 Ru2 Xe5 F22\n",
      "K4 Xe1 O15\n",
      "Ca2 As4 Xe5 F34\n",
      "B1 C6 Xe1 F11\n",
      "Hg1 Sb2 Xe5 F22\n",
      "Sb1 Te7 S1 Xe1 Cl1 O9 F36\n",
      "As1 Xe1 F7\n",
      "S2 Xe1 N1 O4 F3\n",
      "Co1 Sb3 Xe1 F23\n",
      "Sb4 Au1 Xe4 F22\n",
      "Xe1 N2 O2 F8\n",
      "Au1 Xe2 F17\n",
      "Fe4 Ag1 P1 Xe2 F6\n",
      "Xe1 O3\n",
      "Xe1\n",
      "Sr1 As2 Xe3 F18\n",
      "Sb2 Xe1 F14\n",
      "Sb1 Xe2 F9\n",
      "As1 Xe1 F11\n",
      "Mg1 As2 Xe2 F16\n",
      "Ba1 P2 Xe4 F20\n",
      "Sb2 Xe1 F16\n",
      "Zn1 Sb2 Xe6 F24\n",
      "Cs1 Xe3 O3 F13\n",
      "Mn1 Sb3 Xe1 F23\n",
      "Sb1 Xe1 O1 F9\n",
      "Sr1 P2 Xe3 F18\n",
      "He1 Si1 O2\n",
      "Cr2 Xe1 F10\n",
      "Ni1 Sb3 Xe1 F23\n",
      "Xe1 N1 O3 F1\n",
      "As1 Xe2 O4 F9\n",
      "Sb3 Au2 Xe2 F19\n",
      "Xe1 F6\n",
      "He1 Si1 O2\n",
      "Ag1 Xe1 F9\n",
      "Na4 W8 Xe1 O6\n",
      "Ca1 P2 Xe5 F22\n",
      "W1 Xe1 O1 F6\n",
      "Ag1 As1 Xe2 F10\n",
      "Kr1\n",
      "Cd1 As2 Xe4 F20\n",
      "Xe1 F6\n",
      "Cd1 P2 Xe5 F22\n",
      "As1 S1 Xe2 O3 F9\n",
      "As2 Pb1 Xe3 F18\n",
      "Te4 Xe1 O4 F20\n",
      "Cr1 Xe1 F6\n",
      "Hg1 As2 Xe5 F22\n",
      "Hg2 Te4 Kr3 O4 F26\n",
      "S2 Xe1 O6 F2\n",
      "Os1 Xe1 O3 F8\n",
      "Sb1 Xe1 F7\n",
      "Kr1\n",
      "Kr1\n",
      "H1 Xe2 F15\n",
      "Kr1 F2\n",
      "P6 Pb3 Xe11 F58\n",
      "Sb2 Au1 Xe2 F12\n",
      "Os2 Xe1 O6 F10\n",
      "Na4 Xe1 O12\n",
      "Xe1\n",
      "As1 S1 Xe1 N1 F10\n",
      "Sb1 Ir1 Xe1 F12\n",
      "Mg1 Sb3 Xe1 F23\n",
      "Ru1 Xe1 F7\n",
      "Cr4 Xe5 F44\n",
      "Ar1\n",
      "Na4 Xe1 O14\n",
      "Mn1 Sb3 Xe1 F23\n",
      "As1 Br1 Kr2 O1 F12\n",
      "Sb4 Xe2 F19\n",
      "As1 Xe2 F9\n",
      "Sb1 Xe1 O2 F7\n",
      "He1\n",
      "Tc1 Xe1 O4 F5\n",
      "Xe1\n",
      "Xe1 O2 F2\n",
      "K1 Xe1 O3 F1\n",
      "Cs1 Xe1 F7\n",
      "V1 Xe2 F17\n",
      "Mg1 As2 Xe4 F20\n",
      "Sb1 Kr3 F11\n",
      "Bi1 Xe1 F7\n",
      "Xe1\n",
      "Ru1 Xe1 F11\n",
      "He1\n",
      "Sb2 Kr5 F20\n",
      "Xe1 F6\n",
      "Cu1 Sb3 Xe1 F23\n",
      "Li1 As1 Xe3 F12\n",
      "Pd1 Xe2 F16\n",
      "Cr1 Xe1 F10\n",
      "Ni1 Xe4 F28\n",
      "B1 C10 Xe1 F17\n",
      "Bi1 Xe1 F9\n",
      "Xe1 F4\n",
      "Re4 Xe3 O10 F14\n",
      "As2 Kr3 F16\n",
      "Ba1 Nb2 Xe5 F22\n",
      "Sb2 Xe1 F13\n",
      "Sb4 Au1 Xe4 F22\n",
      "Hg2 Te4 Xe3 O4 F26\n",
      "H1 Xe1 F7\n",
      "Sb2 Xe1 Cl1 F11\n",
      "Nb1 Xe1 F11\n",
      "Sb3 S2 Xe1 N1 O4 F18\n",
      "Xe1 I1 F7\n",
      "As1 Xe2 F9\n",
      "Sb1 Te7 S1 Xe1 Cl1 O9 F36\n",
      "Ag1 P1 Xe2 F10\n",
      "As1 S2 Xe1 N2 F13\n",
      "Te2 Xe1 O2 F10\n",
      "Sb1 Xe1 F11\n",
      "Ca2 As4 Xe9 F42\n",
      "Ca1 As2 Xe4 F20\n",
      "Sb2 As1 Au1 Xe1 F14\n",
      "Cu1 Sb2 Xe4 F20\n",
      "Na4 Xe1 O14\n",
      "He1\n",
      "Te2 Xe1 O4 F10\n",
      "Xe1 F2\n"
     ]
    }
   ],
   "source": [
    "for i in orig_data['composition']:\n",
    "    if i.contains_element_type('noble_gas'):\n",
    "        print(i)"
   ]
  },
  {
   "cell_type": "code",
   "execution_count": 115,
   "metadata": {},
   "outputs": [],
   "source": [
    "orig_data['contains_noble_gas'] = [i.contains_element_type('noble_gas') for i in orig_data['composition']]"
   ]
  },
  {
   "cell_type": "markdown",
   "metadata": {},
   "source": [
    "**2.1 how many compounds have noble gases in them? take them out.**"
   ]
  },
  {
   "cell_type": "code",
   "execution_count": 117,
   "metadata": {},
   "outputs": [],
   "source": [
    "data = orig_data[orig_data['contains_noble_gas']]"
   ]
  },
  {
   "cell_type": "code",
   "execution_count": 126,
   "metadata": {},
   "outputs": [],
   "source": [
    "orig_data_ignoble = orig_data[orig_data['contains_noble_gas'] == False]"
   ]
  },
  {
   "cell_type": "code",
   "execution_count": 121,
   "metadata": {},
   "outputs": [
    {
     "data": {
      "text/plain": [
       "173"
      ]
     },
     "execution_count": 121,
     "metadata": {},
     "output_type": "execute_result"
    }
   ],
   "source": [
    "n = data.shape[0]\n",
    "n"
   ]
  },
  {
   "cell_type": "code",
   "execution_count": 127,
   "metadata": {},
   "outputs": [
    {
     "data": {
      "text/plain": [
       "(124342, 9)"
      ]
     },
     "execution_count": 127,
     "metadata": {},
     "output_type": "execute_result"
    }
   ],
   "source": [
    "orig_data_ignoble.shape"
   ]
  },
  {
   "cell_type": "code",
   "execution_count": 128,
   "metadata": {},
   "outputs": [
    {
     "data": {
      "text/plain": [
       "(124515, 9)"
      ]
     },
     "execution_count": 128,
     "metadata": {},
     "output_type": "execute_result"
    }
   ],
   "source": [
    "orig_data.shape"
   ]
  },
  {
   "cell_type": "markdown",
   "metadata": {},
   "source": [
    "**2.2 Load element properties. How many NaN?**"
   ]
  },
  {
   "cell_type": "code",
   "execution_count": 131,
   "metadata": {},
   "outputs": [
    {
     "ename": "KeyError",
     "evalue": "0",
     "output_type": "error",
     "traceback": [
      "\u001b[0;31m---------------------------------------------------------------------------\u001b[0m",
      "\u001b[0;31mKeyError\u001b[0m                                  Traceback (most recent call last)",
      "\u001b[0;32m<ipython-input-131-e6ac73aa7cc1>\u001b[0m in \u001b[0;36m<module>\u001b[0;34m\u001b[0m\n\u001b[0;32m----> 1\u001b[0;31m \u001b[0mprint\u001b[0m\u001b[0;34m(\u001b[0m\u001b[0melement_occurrences\u001b[0m\u001b[0;34m[\u001b[0m\u001b[0;36m0\u001b[0m\u001b[0;34m]\u001b[0m\u001b[0;34m)\u001b[0m\u001b[0;34m\u001b[0m\u001b[0;34m\u001b[0m\u001b[0m\n\u001b[0m",
      "\u001b[0;31mKeyError\u001b[0m: 0"
     ]
    }
   ],
   "source": [
    "element_data = "
   ]
  },
  {
   "cell_type": "code",
   "execution_count": null,
   "metadata": {},
   "outputs": [],
   "source": []
  }
 ],
 "metadata": {
  "kernelspec": {
   "display_name": "Python [conda env:nano281] *",
   "language": "python",
   "name": "conda-env-nano281-py"
  },
  "language_info": {
   "codemirror_mode": {
    "name": "ipython",
    "version": 3
   },
   "file_extension": ".py",
   "mimetype": "text/x-python",
   "name": "python",
   "nbconvert_exporter": "python",
   "pygments_lexer": "ipython3",
   "version": "3.7.6"
  }
 },
 "nbformat": 4,
 "nbformat_minor": 2
}
