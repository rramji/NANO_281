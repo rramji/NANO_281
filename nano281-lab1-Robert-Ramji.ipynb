{
 "cells": [
  {
   "cell_type": "markdown",
   "metadata": {},
   "source": [
    "# Robert's First Lab Assignment for Nano 281\n",
    "\n",
    "## Q1 - Materials Project data"
   ]
  },
  {
   "cell_type": "code",
   "execution_count": 1,
   "metadata": {},
   "outputs": [],
   "source": [
    "#import necessary packages\n",
    "from pymatgen import MPRester\n",
    "import numpy as np\n",
    "import seaborn as sns\n",
    "from scipy import stats\n",
    "from pprint import pprint\n",
    "import pandas as pd\n",
    "from io import StringIO\n",
    "import requests\n",
    "%matplotlib inline\n",
    "#set up Materials Project query method with API Key\n",
    "m = MPRester(\"Rxy9xMBBfweUTh2XbOv\")"
   ]
  },
  {
   "cell_type": "markdown",
   "metadata": {},
   "source": [
    "**Testing method of getting ABO3s**"
   ]
  },
  {
   "cell_type": "code",
   "execution_count": 2,
   "metadata": {},
   "outputs": [],
   "source": [
    "test_data = m.get_data(\"**O3\", prop=\"pretty_formula\")\n",
    "#pprint(test_data)"
   ]
  },
  {
   "cell_type": "code",
   "execution_count": 3,
   "metadata": {},
   "outputs": [
    {
     "name": "stderr",
     "output_type": "stream",
     "text": [
      "/home/robert/miniconda3/envs/nano281/lib/python3.7/site-packages/pymatgen/core/periodic_table.py:426: UserWarning: No electronegativity for He. Setting to NaN. This has no physical meaning, and is mainly done to avoid errors caused by the code expecting a float.\n",
      "  % self.symbol)\n",
      "/home/robert/miniconda3/envs/nano281/lib/python3.7/site-packages/pymatgen/core/periodic_table.py:426: UserWarning: No electronegativity for Ne. Setting to NaN. This has no physical meaning, and is mainly done to avoid errors caused by the code expecting a float.\n",
      "  % self.symbol)\n",
      "/home/robert/miniconda3/envs/nano281/lib/python3.7/site-packages/pymatgen/core/periodic_table.py:426: UserWarning: No electronegativity for Ar. Setting to NaN. This has no physical meaning, and is mainly done to avoid errors caused by the code expecting a float.\n",
      "  % self.symbol)\n"
     ]
    },
    {
     "data": {
      "application/vnd.jupyter.widget-view+json": {
       "model_id": "ba309dddcbfc49cf818151ad7cd72537",
       "version_major": 2,
       "version_minor": 0
      },
      "text/plain": [
       "HBox(children=(FloatProgress(value=0.0, max=2398.0), HTML(value='')))"
      ]
     },
     "metadata": {},
     "output_type": "display_data"
    }
   ],
   "source": [
    "test_data2 = m.query(criteria=\"**O3\", properties=[\"pretty_formula\"])\n",
    "#pprint(test_data2)"
   ]
  },
  {
   "cell_type": "markdown",
   "metadata": {},
   "source": [
    "**Checking code to get properties for one compound**"
   ]
  },
  {
   "cell_type": "code",
   "execution_count": 4,
   "metadata": {},
   "outputs": [],
   "source": [
    "properties_list = [\"task_id\",\"pretty_formula\",\"nsites\",\"band_gap\",\"formation_energy_per_atom\",\"icsd_ids\",\"e_above_hull\"]\n",
    "test_data3 = m.query(criteria=\"LiNbO3\", properties=properties_list)\n",
    "#pprint(test_data3)"
   ]
  },
  {
   "cell_type": "markdown",
   "metadata": {},
   "source": [
    "**Displaying the list of data columns that the materials project stores about compounds**\n",
    "\n",
    "This makes it easy to reference these properties by name"
   ]
  },
  {
   "cell_type": "code",
   "execution_count": 5,
   "metadata": {},
   "outputs": [
    {
     "name": "stdout",
     "output_type": "stream",
     "text": [
      "Index(['energy', 'energy_per_atom', 'volume', 'formation_energy_per_atom',\n",
      "       'nsites', 'unit_cell_formula', 'pretty_formula', 'is_hubbard',\n",
      "       'elements', 'nelements', 'e_above_hull', 'hubbards', 'is_compatible',\n",
      "       'spacegroup', 'task_ids', 'band_gap', 'density', 'icsd_id', 'icsd_ids',\n",
      "       'cif', 'total_magnetization', 'material_id', 'oxide_type', 'tags',\n",
      "       'elasticity', 'piezo', 'diel', 'full_formula'],\n",
      "      dtype='object')\n"
     ]
    }
   ],
   "source": [
    "data1=m.get_data('Li2O')\n",
    "df1 = pd.DataFrame(data=data1)\n",
    "pprint(df1.columns)"
   ]
  },
  {
   "cell_type": "markdown",
   "metadata": {},
   "source": [
    "## Q1.1\n",
    "*Running the command to get desired data for all ABO3 compounds*\n",
    "\n",
    "*Convert to Pandas Dataframe*"
   ]
  },
  {
   "cell_type": "code",
   "execution_count": 49,
   "metadata": {},
   "outputs": [
    {
     "data": {
      "application/vnd.jupyter.widget-view+json": {
       "model_id": "137aacbc2f0d4392955a8f599952689c",
       "version_major": 2,
       "version_minor": 0
      },
      "text/plain": [
       "HBox(children=(FloatProgress(value=0.0, max=2398.0), HTML(value='')))"
      ]
     },
     "metadata": {},
     "output_type": "display_data"
    },
    {
     "data": {
      "text/html": [
       "<div>\n",
       "<style scoped>\n",
       "    .dataframe tbody tr th:only-of-type {\n",
       "        vertical-align: middle;\n",
       "    }\n",
       "\n",
       "    .dataframe tbody tr th {\n",
       "        vertical-align: top;\n",
       "    }\n",
       "\n",
       "    .dataframe thead th {\n",
       "        text-align: right;\n",
       "    }\n",
       "</style>\n",
       "<table border=\"1\" class=\"dataframe\">\n",
       "  <thead>\n",
       "    <tr style=\"text-align: right;\">\n",
       "      <th></th>\n",
       "      <th>task_id</th>\n",
       "      <th>pretty_formula</th>\n",
       "      <th>nsites</th>\n",
       "      <th>band_gap</th>\n",
       "      <th>formation_energy_per_atom</th>\n",
       "      <th>icsd_ids</th>\n",
       "      <th>e_above_hull</th>\n",
       "    </tr>\n",
       "  </thead>\n",
       "  <tbody>\n",
       "    <tr>\n",
       "      <th>0</th>\n",
       "      <td>mp-1001571</td>\n",
       "      <td>CaFeO3</td>\n",
       "      <td>5</td>\n",
       "      <td>0.0000</td>\n",
       "      <td>-2.282308</td>\n",
       "      <td>[]</td>\n",
       "      <td>0.052161</td>\n",
       "    </tr>\n",
       "    <tr>\n",
       "      <th>1</th>\n",
       "      <td>mp-1016821</td>\n",
       "      <td>BaSiO3</td>\n",
       "      <td>5</td>\n",
       "      <td>0.9508</td>\n",
       "      <td>-2.852291</td>\n",
       "      <td>[]</td>\n",
       "      <td>0.561269</td>\n",
       "    </tr>\n",
       "    <tr>\n",
       "      <th>2</th>\n",
       "      <td>mp-1016823</td>\n",
       "      <td>BaGeO3</td>\n",
       "      <td>5</td>\n",
       "      <td>0.0000</td>\n",
       "      <td>-2.473919</td>\n",
       "      <td>[]</td>\n",
       "      <td>0.232358</td>\n",
       "    </tr>\n",
       "    <tr>\n",
       "      <th>3</th>\n",
       "      <td>mp-1016828</td>\n",
       "      <td>CdIrO3</td>\n",
       "      <td>5</td>\n",
       "      <td>0.0000</td>\n",
       "      <td>-0.851737</td>\n",
       "      <td>[]</td>\n",
       "      <td>0.463199</td>\n",
       "    </tr>\n",
       "    <tr>\n",
       "      <th>4</th>\n",
       "      <td>mp-1016833</td>\n",
       "      <td>CaRhO3</td>\n",
       "      <td>5</td>\n",
       "      <td>0.0000</td>\n",
       "      <td>-1.851243</td>\n",
       "      <td>[]</td>\n",
       "      <td>0.257081</td>\n",
       "    </tr>\n",
       "  </tbody>\n",
       "</table>\n",
       "</div>"
      ],
      "text/plain": [
       "      task_id pretty_formula  nsites  band_gap  formation_energy_per_atom  \\\n",
       "0  mp-1001571         CaFeO3       5    0.0000                  -2.282308   \n",
       "1  mp-1016821         BaSiO3       5    0.9508                  -2.852291   \n",
       "2  mp-1016823         BaGeO3       5    0.0000                  -2.473919   \n",
       "3  mp-1016828         CdIrO3       5    0.0000                  -0.851737   \n",
       "4  mp-1016833         CaRhO3       5    0.0000                  -1.851243   \n",
       "\n",
       "  icsd_ids  e_above_hull  \n",
       "0       []      0.052161  \n",
       "1       []      0.561269  \n",
       "2       []      0.232358  \n",
       "3       []      0.463199  \n",
       "4       []      0.257081  "
      ]
     },
     "execution_count": 49,
     "metadata": {},
     "output_type": "execute_result"
    }
   ],
   "source": [
    "properties_list = [\"task_id\",\"pretty_formula\",\"nsites\",\"band_gap\",\"formation_energy_per_atom\",\"icsd_ids\",\"e_above_hull\"]\n",
    "mats_data = m.query(criteria=\"**O3\", properties=properties_list)\n",
    "mats_df = pd.DataFrame(data=mats_data)\n",
    "\n",
    "\n",
    "#pprint(mats_data[0:5])\n",
    "mats_df.head(5)"
   ]
  },
  {
   "cell_type": "markdown",
   "metadata": {},
   "source": [
    "## Q1.2\n",
    "*How many ABO3 compounds in total are there in the Materials Project?*\n",
    "\n",
    "**2336**\n",
    "\n",
    "*How many unique ABO3 formulae are there?*\n",
    "\n",
    "**1308**\n",
    "\n",
    "*What is the average number of crystals (also known as polymorphs) per ABO3 formula?*\n",
    "\n",
    "**1.786**"
   ]
  },
  {
   "cell_type": "code",
   "execution_count": 7,
   "metadata": {},
   "outputs": [
    {
     "data": {
      "text/plain": [
       "2398"
      ]
     },
     "execution_count": 7,
     "metadata": {},
     "output_type": "execute_result"
    }
   ],
   "source": [
    "len(mats_df.index)"
   ]
  },
  {
   "cell_type": "code",
   "execution_count": 8,
   "metadata": {},
   "outputs": [
    {
     "data": {
      "text/plain": [
       "pretty_formula\n",
       "AcAlO3    1\n",
       "AcBO3     1\n",
       "AcCrO3    1\n",
       "AcCuO3    1\n",
       "AcFeO3    1\n",
       "         ..\n",
       "ZrPbO3    5\n",
       "ZrSiO3    1\n",
       "ZrTiO3    1\n",
       "ZrTlO3    1\n",
       "ZrZnO3    1\n",
       "Length: 1311, dtype: int64"
      ]
     },
     "execution_count": 8,
     "metadata": {},
     "output_type": "execute_result"
    }
   ],
   "source": [
    "formulae = mats_df['pretty_formula']\n",
    "unique_formulae = mats_df.groupby(['pretty_formula'])\n",
    "unique_formulae.size()"
   ]
  },
  {
   "cell_type": "code",
   "execution_count": 9,
   "metadata": {},
   "outputs": [
    {
     "data": {
      "text/plain": [
       "pandas.core.groupby.generic.DataFrameGroupBy"
      ]
     },
     "execution_count": 9,
     "metadata": {},
     "output_type": "execute_result"
    }
   ],
   "source": [
    "type(unique_formulae)"
   ]
  },
  {
   "cell_type": "code",
   "execution_count": 10,
   "metadata": {},
   "outputs": [
    {
     "data": {
      "text/plain": [
       "task_id                      1.829138\n",
       "nsites                       1.829138\n",
       "band_gap                     1.829138\n",
       "formation_energy_per_atom    1.829138\n",
       "icsd_ids                     1.829138\n",
       "e_above_hull                 1.829138\n",
       "dtype: float64"
      ]
     },
     "execution_count": 10,
     "metadata": {},
     "output_type": "execute_result"
    }
   ],
   "source": [
    "unique_formulae.count().mean()"
   ]
  },
  {
   "cell_type": "code",
   "execution_count": 11,
   "metadata": {},
   "outputs": [
    {
     "name": "stdout",
     "output_type": "stream",
     "text": [
      "average polymorphs/formula:  1.8291380625476736\n"
     ]
    }
   ],
   "source": [
    "unique = {}\n",
    "for i in formulae:\n",
    "    if i not in unique:\n",
    "        unique[i] = 1\n",
    "    else:\n",
    "        unique[i] += 1\n",
    "        \n",
    "length_unique = len(unique)\n",
    "length_total = len(mats_df.index)\n",
    "print(\"average polymorphs/formula: \",length_total/length_unique)"
   ]
  },
  {
   "cell_type": "markdown",
   "metadata": {},
   "source": [
    "## Q1.3\n",
    "\n",
    "*What fraction of the compounds have at least one icsd id?*\n",
    "\n",
    "**~0.365**"
   ]
  },
  {
   "cell_type": "code",
   "execution_count": 12,
   "metadata": {},
   "outputs": [],
   "source": [
    "icsd = mats_df['icsd_ids']"
   ]
  },
  {
   "cell_type": "code",
   "execution_count": 13,
   "metadata": {},
   "outputs": [
    {
     "data": {
      "text/html": [
       "<div>\n",
       "<style scoped>\n",
       "    .dataframe tbody tr th:only-of-type {\n",
       "        vertical-align: middle;\n",
       "    }\n",
       "\n",
       "    .dataframe tbody tr th {\n",
       "        vertical-align: top;\n",
       "    }\n",
       "\n",
       "    .dataframe thead th {\n",
       "        text-align: right;\n",
       "    }\n",
       "</style>\n",
       "<table border=\"1\" class=\"dataframe\">\n",
       "  <thead>\n",
       "    <tr style=\"text-align: right;\">\n",
       "      <th></th>\n",
       "      <th>task_id</th>\n",
       "      <th>pretty_formula</th>\n",
       "      <th>nsites</th>\n",
       "      <th>band_gap</th>\n",
       "      <th>formation_energy_per_atom</th>\n",
       "      <th>icsd_ids</th>\n",
       "      <th>e_above_hull</th>\n",
       "    </tr>\n",
       "  </thead>\n",
       "  <tbody>\n",
       "    <tr>\n",
       "      <th>count</th>\n",
       "      <td>2398</td>\n",
       "      <td>2398</td>\n",
       "      <td>2398.000000</td>\n",
       "      <td>2398.000000</td>\n",
       "      <td>2398.000000</td>\n",
       "      <td>2398</td>\n",
       "      <td>2398.000000</td>\n",
       "    </tr>\n",
       "    <tr>\n",
       "      <th>unique</th>\n",
       "      <td>2398</td>\n",
       "      <td>1311</td>\n",
       "      <td>NaN</td>\n",
       "      <td>NaN</td>\n",
       "      <td>NaN</td>\n",
       "      <td>866</td>\n",
       "      <td>NaN</td>\n",
       "    </tr>\n",
       "    <tr>\n",
       "      <th>top</th>\n",
       "      <td>mp-1298361</td>\n",
       "      <td>MgSiO3</td>\n",
       "      <td>NaN</td>\n",
       "      <td>NaN</td>\n",
       "      <td>NaN</td>\n",
       "      <td>[]</td>\n",
       "      <td>NaN</td>\n",
       "    </tr>\n",
       "    <tr>\n",
       "      <th>freq</th>\n",
       "      <td>1</td>\n",
       "      <td>33</td>\n",
       "      <td>NaN</td>\n",
       "      <td>NaN</td>\n",
       "      <td>NaN</td>\n",
       "      <td>1533</td>\n",
       "      <td>NaN</td>\n",
       "    </tr>\n",
       "    <tr>\n",
       "      <th>mean</th>\n",
       "      <td>NaN</td>\n",
       "      <td>NaN</td>\n",
       "      <td>16.695163</td>\n",
       "      <td>1.228029</td>\n",
       "      <td>-2.247005</td>\n",
       "      <td>NaN</td>\n",
       "      <td>0.254655</td>\n",
       "    </tr>\n",
       "    <tr>\n",
       "      <th>std</th>\n",
       "      <td>NaN</td>\n",
       "      <td>NaN</td>\n",
       "      <td>17.332958</td>\n",
       "      <td>1.583315</td>\n",
       "      <td>0.873931</td>\n",
       "      <td>NaN</td>\n",
       "      <td>0.381788</td>\n",
       "    </tr>\n",
       "    <tr>\n",
       "      <th>min</th>\n",
       "      <td>NaN</td>\n",
       "      <td>NaN</td>\n",
       "      <td>5.000000</td>\n",
       "      <td>0.000000</td>\n",
       "      <td>-4.037959</td>\n",
       "      <td>NaN</td>\n",
       "      <td>0.000000</td>\n",
       "    </tr>\n",
       "    <tr>\n",
       "      <th>25%</th>\n",
       "      <td>NaN</td>\n",
       "      <td>NaN</td>\n",
       "      <td>5.000000</td>\n",
       "      <td>0.000000</td>\n",
       "      <td>-2.852174</td>\n",
       "      <td>NaN</td>\n",
       "      <td>0.020229</td>\n",
       "    </tr>\n",
       "    <tr>\n",
       "      <th>50%</th>\n",
       "      <td>NaN</td>\n",
       "      <td>NaN</td>\n",
       "      <td>10.000000</td>\n",
       "      <td>0.178650</td>\n",
       "      <td>-2.313297</td>\n",
       "      <td>NaN</td>\n",
       "      <td>0.089209</td>\n",
       "    </tr>\n",
       "    <tr>\n",
       "      <th>75%</th>\n",
       "      <td>NaN</td>\n",
       "      <td>NaN</td>\n",
       "      <td>20.000000</td>\n",
       "      <td>2.398700</td>\n",
       "      <td>-1.628712</td>\n",
       "      <td>NaN</td>\n",
       "      <td>0.357985</td>\n",
       "    </tr>\n",
       "    <tr>\n",
       "      <th>max</th>\n",
       "      <td>NaN</td>\n",
       "      <td>NaN</td>\n",
       "      <td>240.000000</td>\n",
       "      <td>5.831800</td>\n",
       "      <td>1.978078</td>\n",
       "      <td>NaN</td>\n",
       "      <td>4.155444</td>\n",
       "    </tr>\n",
       "  </tbody>\n",
       "</table>\n",
       "</div>"
      ],
      "text/plain": [
       "           task_id pretty_formula       nsites     band_gap  \\\n",
       "count         2398           2398  2398.000000  2398.000000   \n",
       "unique        2398           1311          NaN          NaN   \n",
       "top     mp-1298361         MgSiO3          NaN          NaN   \n",
       "freq             1             33          NaN          NaN   \n",
       "mean           NaN            NaN    16.695163     1.228029   \n",
       "std            NaN            NaN    17.332958     1.583315   \n",
       "min            NaN            NaN     5.000000     0.000000   \n",
       "25%            NaN            NaN     5.000000     0.000000   \n",
       "50%            NaN            NaN    10.000000     0.178650   \n",
       "75%            NaN            NaN    20.000000     2.398700   \n",
       "max            NaN            NaN   240.000000     5.831800   \n",
       "\n",
       "        formation_energy_per_atom icsd_ids  e_above_hull  \n",
       "count                 2398.000000     2398   2398.000000  \n",
       "unique                        NaN      866           NaN  \n",
       "top                           NaN       []           NaN  \n",
       "freq                          NaN     1533           NaN  \n",
       "mean                    -2.247005      NaN      0.254655  \n",
       "std                      0.873931      NaN      0.381788  \n",
       "min                     -4.037959      NaN      0.000000  \n",
       "25%                     -2.852174      NaN      0.020229  \n",
       "50%                     -2.313297      NaN      0.089209  \n",
       "75%                     -1.628712      NaN      0.357985  \n",
       "max                      1.978078      NaN      4.155444  "
      ]
     },
     "execution_count": 13,
     "metadata": {},
     "output_type": "execute_result"
    }
   ],
   "source": [
    "mats_df.describe(include=\"all\")"
   ]
  },
  {
   "cell_type": "code",
   "execution_count": 14,
   "metadata": {},
   "outputs": [
    {
     "data": {
      "text/plain": [
       "0.36071726438698914"
      ]
     },
     "execution_count": 14,
     "metadata": {},
     "output_type": "execute_result"
    }
   ],
   "source": [
    "icsds = []\n",
    "for i in mats_df['icsd_ids']:\n",
    "    if len(i) > 0:\n",
    "        icsds.append(i)\n",
    "len(icsds)/len(mats_df['icsd_ids'])"
   ]
  },
  {
   "cell_type": "markdown",
   "metadata": {},
   "source": [
    "## Q1.4"
   ]
  },
  {
   "cell_type": "code",
   "execution_count": 15,
   "metadata": {},
   "outputs": [
    {
     "name": "stdout",
     "output_type": "stream",
     "text": [
      "{'task_id': 'mp-1016821', 'pretty_formula': 'BaSiO3', 'nsites': 5, 'band_gap': 0.9508000000000001, 'formation_energy_per_atom': -2.8522908337499993, 'icsd_ids': [], 'e_above_hull': 0.5612689803333337}\n",
      "-2.8522908337499993\n"
     ]
    }
   ],
   "source": [
    "print(mats_data[1])\n",
    "print(mats_data[1]['formation_energy_per_atom'])"
   ]
  },
  {
   "cell_type": "code",
   "execution_count": 16,
   "metadata": {},
   "outputs": [
    {
     "data": {
      "text/plain": [
       "-275167.4563214968"
      ]
     },
     "execution_count": 16,
     "metadata": {},
     "output_type": "execute_result"
    }
   ],
   "source": [
    "convert = 1.602e-19*6.022e23\n",
    "mats_data[1]['formation_energy_per_atom'] * convert"
   ]
  },
  {
   "cell_type": "code",
   "execution_count": 17,
   "metadata": {},
   "outputs": [],
   "source": [
    "for i in mats_data:\n",
    "    i['molar_formation_energy_per_atom']=i['formation_energy_per_atom']*convert"
   ]
  },
  {
   "cell_type": "code",
   "execution_count": 18,
   "metadata": {},
   "outputs": [
    {
     "name": "stdout",
     "output_type": "stream",
     "text": [
      "{'task_id': 'mp-1016821', 'pretty_formula': 'BaSiO3', 'nsites': 5, 'band_gap': 0.9508000000000001, 'formation_energy_per_atom': -2.8522908337499993, 'icsd_ids': [], 'e_above_hull': 0.5612689803333337, 'molar_formation_energy_per_atom': -275167.4563214968}\n"
     ]
    }
   ],
   "source": [
    "print(mats_data[1])"
   ]
  },
  {
   "cell_type": "code",
   "execution_count": 50,
   "metadata": {},
   "outputs": [],
   "source": [
    "mats_df_updated =  pd.DataFrame(data=mats_data)\n",
    "mats_df_updated.to_csv('mp_abo3_data.csv')"
   ]
  },
  {
   "cell_type": "code",
   "execution_count": 20,
   "metadata": {},
   "outputs": [
    {
     "data": {
      "text/html": [
       "<div>\n",
       "<style scoped>\n",
       "    .dataframe tbody tr th:only-of-type {\n",
       "        vertical-align: middle;\n",
       "    }\n",
       "\n",
       "    .dataframe tbody tr th {\n",
       "        vertical-align: top;\n",
       "    }\n",
       "\n",
       "    .dataframe thead th {\n",
       "        text-align: right;\n",
       "    }\n",
       "</style>\n",
       "<table border=\"1\" class=\"dataframe\">\n",
       "  <thead>\n",
       "    <tr style=\"text-align: right;\">\n",
       "      <th></th>\n",
       "      <th>nsites</th>\n",
       "      <th>band_gap</th>\n",
       "      <th>formation_energy_per_atom</th>\n",
       "      <th>e_above_hull</th>\n",
       "      <th>molar_formation_energy_per_atom</th>\n",
       "    </tr>\n",
       "  </thead>\n",
       "  <tbody>\n",
       "    <tr>\n",
       "      <th>count</th>\n",
       "      <td>2398.000000</td>\n",
       "      <td>2398.000000</td>\n",
       "      <td>2398.000000</td>\n",
       "      <td>2398.000000</td>\n",
       "      <td>2398.000000</td>\n",
       "    </tr>\n",
       "    <tr>\n",
       "      <th>mean</th>\n",
       "      <td>16.695163</td>\n",
       "      <td>1.228029</td>\n",
       "      <td>-2.247005</td>\n",
       "      <td>0.254655</td>\n",
       "      <td>-216774.065012</td>\n",
       "    </tr>\n",
       "    <tr>\n",
       "      <th>std</th>\n",
       "      <td>17.332958</td>\n",
       "      <td>1.583315</td>\n",
       "      <td>0.873931</td>\n",
       "      <td>0.381788</td>\n",
       "      <td>84310.212784</td>\n",
       "    </tr>\n",
       "    <tr>\n",
       "      <th>min</th>\n",
       "      <td>5.000000</td>\n",
       "      <td>0.000000</td>\n",
       "      <td>-4.037959</td>\n",
       "      <td>0.000000</td>\n",
       "      <td>-389551.722266</td>\n",
       "    </tr>\n",
       "    <tr>\n",
       "      <th>25%</th>\n",
       "      <td>5.000000</td>\n",
       "      <td>0.000000</td>\n",
       "      <td>-2.852174</td>\n",
       "      <td>0.020229</td>\n",
       "      <td>-275156.209412</td>\n",
       "    </tr>\n",
       "    <tr>\n",
       "      <th>50%</th>\n",
       "      <td>10.000000</td>\n",
       "      <td>0.178650</td>\n",
       "      <td>-2.313297</td>\n",
       "      <td>0.089209</td>\n",
       "      <td>-223169.429140</td>\n",
       "    </tr>\n",
       "    <tr>\n",
       "      <th>75%</th>\n",
       "      <td>20.000000</td>\n",
       "      <td>2.398700</td>\n",
       "      <td>-1.628712</td>\n",
       "      <td>0.357985</td>\n",
       "      <td>-157125.807553</td>\n",
       "    </tr>\n",
       "    <tr>\n",
       "      <th>max</th>\n",
       "      <td>240.000000</td>\n",
       "      <td>5.831800</td>\n",
       "      <td>1.978078</td>\n",
       "      <td>4.155444</td>\n",
       "      <td>190830.024717</td>\n",
       "    </tr>\n",
       "  </tbody>\n",
       "</table>\n",
       "</div>"
      ],
      "text/plain": [
       "            nsites     band_gap  formation_energy_per_atom  e_above_hull  \\\n",
       "count  2398.000000  2398.000000                2398.000000   2398.000000   \n",
       "mean     16.695163     1.228029                  -2.247005      0.254655   \n",
       "std      17.332958     1.583315                   0.873931      0.381788   \n",
       "min       5.000000     0.000000                  -4.037959      0.000000   \n",
       "25%       5.000000     0.000000                  -2.852174      0.020229   \n",
       "50%      10.000000     0.178650                  -2.313297      0.089209   \n",
       "75%      20.000000     2.398700                  -1.628712      0.357985   \n",
       "max     240.000000     5.831800                   1.978078      4.155444   \n",
       "\n",
       "       molar_formation_energy_per_atom  \n",
       "count                      2398.000000  \n",
       "mean                    -216774.065012  \n",
       "std                       84310.212784  \n",
       "min                     -389551.722266  \n",
       "25%                     -275156.209412  \n",
       "50%                     -223169.429140  \n",
       "75%                     -157125.807553  \n",
       "max                      190830.024717  "
      ]
     },
     "execution_count": 20,
     "metadata": {},
     "output_type": "execute_result"
    }
   ],
   "source": [
    "mats_df_updated.describe()"
   ]
  },
  {
   "cell_type": "markdown",
   "metadata": {},
   "source": [
    "## Q1.5"
   ]
  },
  {
   "cell_type": "code",
   "execution_count": 21,
   "metadata": {},
   "outputs": [
    {
     "data": {
      "text/plain": [
       "0       0.052161\n",
       "1       0.561269\n",
       "2       0.232358\n",
       "3       0.463199\n",
       "4       0.257081\n",
       "          ...   \n",
       "2393    0.139167\n",
       "2394    0.221352\n",
       "2395    0.186033\n",
       "2396    0.123491\n",
       "2397    0.563319\n",
       "Name: e_above_hull, Length: 2398, dtype: float64"
      ]
     },
     "execution_count": 21,
     "metadata": {},
     "output_type": "execute_result"
    }
   ],
   "source": [
    "mats_df_updated['e_above_hull']"
   ]
  },
  {
   "cell_type": "code",
   "execution_count": 22,
   "metadata": {},
   "outputs": [],
   "source": [
    "#assign stability property to each compound\n",
    "stability = []\n",
    "for i in mats_df_updated['e_above_hull']:\n",
    "    if i > 0.03:\n",
    "        stability.append('unstable')\n",
    "        #print(i, 'unstable')\n",
    "    elif i <= 0.03:\n",
    "        stability.append('stable')\n",
    "        #print(i, 'stable')"
   ]
  },
  {
   "cell_type": "code",
   "execution_count": 23,
   "metadata": {},
   "outputs": [],
   "source": [
    "mats_df_updated['stability'] = stability"
   ]
  },
  {
   "cell_type": "code",
   "execution_count": 24,
   "metadata": {},
   "outputs": [],
   "source": [
    "#assign metallic character property to each compound\n",
    "metallic_character = []\n",
    "for i in mats_df_updated['band_gap']:\n",
    "    if i == 0:\n",
    "        metallic_character.append('metallic')\n",
    "        #print(i, 'metallic')\n",
    "    elif i > 0 and i < 1:\n",
    "        metallic_character.append('small band gap')\n",
    "        #print(i, 'small band gap')\n",
    "    elif i >= 1:\n",
    "        metallic_character.append('large band gap')\n",
    "        #print(i, 'large band gap')"
   ]
  },
  {
   "cell_type": "code",
   "execution_count": 25,
   "metadata": {},
   "outputs": [],
   "source": [
    "mats_df_updated['metallic_character'] = metallic_character"
   ]
  },
  {
   "cell_type": "code",
   "execution_count": 26,
   "metadata": {},
   "outputs": [
    {
     "data": {
      "text/html": [
       "<div>\n",
       "<style scoped>\n",
       "    .dataframe tbody tr th:only-of-type {\n",
       "        vertical-align: middle;\n",
       "    }\n",
       "\n",
       "    .dataframe tbody tr th {\n",
       "        vertical-align: top;\n",
       "    }\n",
       "\n",
       "    .dataframe thead th {\n",
       "        text-align: right;\n",
       "    }\n",
       "</style>\n",
       "<table border=\"1\" class=\"dataframe\">\n",
       "  <thead>\n",
       "    <tr style=\"text-align: right;\">\n",
       "      <th></th>\n",
       "      <th>task_id</th>\n",
       "      <th>pretty_formula</th>\n",
       "      <th>nsites</th>\n",
       "      <th>band_gap</th>\n",
       "      <th>formation_energy_per_atom</th>\n",
       "      <th>icsd_ids</th>\n",
       "      <th>e_above_hull</th>\n",
       "      <th>molar_formation_energy_per_atom</th>\n",
       "      <th>stability</th>\n",
       "      <th>metallic_character</th>\n",
       "    </tr>\n",
       "  </thead>\n",
       "  <tbody>\n",
       "    <tr>\n",
       "      <th>count</th>\n",
       "      <td>2398</td>\n",
       "      <td>2398</td>\n",
       "      <td>2398.000000</td>\n",
       "      <td>2398.000000</td>\n",
       "      <td>2398.000000</td>\n",
       "      <td>2398</td>\n",
       "      <td>2398.000000</td>\n",
       "      <td>2398.000000</td>\n",
       "      <td>2398</td>\n",
       "      <td>2398</td>\n",
       "    </tr>\n",
       "    <tr>\n",
       "      <th>unique</th>\n",
       "      <td>2398</td>\n",
       "      <td>1311</td>\n",
       "      <td>NaN</td>\n",
       "      <td>NaN</td>\n",
       "      <td>NaN</td>\n",
       "      <td>866</td>\n",
       "      <td>NaN</td>\n",
       "      <td>NaN</td>\n",
       "      <td>2</td>\n",
       "      <td>3</td>\n",
       "    </tr>\n",
       "    <tr>\n",
       "      <th>top</th>\n",
       "      <td>mp-1298361</td>\n",
       "      <td>MgSiO3</td>\n",
       "      <td>NaN</td>\n",
       "      <td>NaN</td>\n",
       "      <td>NaN</td>\n",
       "      <td>[]</td>\n",
       "      <td>NaN</td>\n",
       "      <td>NaN</td>\n",
       "      <td>unstable</td>\n",
       "      <td>metallic</td>\n",
       "    </tr>\n",
       "    <tr>\n",
       "      <th>freq</th>\n",
       "      <td>1</td>\n",
       "      <td>33</td>\n",
       "      <td>NaN</td>\n",
       "      <td>NaN</td>\n",
       "      <td>NaN</td>\n",
       "      <td>1533</td>\n",
       "      <td>NaN</td>\n",
       "      <td>NaN</td>\n",
       "      <td>1678</td>\n",
       "      <td>1122</td>\n",
       "    </tr>\n",
       "    <tr>\n",
       "      <th>mean</th>\n",
       "      <td>NaN</td>\n",
       "      <td>NaN</td>\n",
       "      <td>16.695163</td>\n",
       "      <td>1.228029</td>\n",
       "      <td>-2.247005</td>\n",
       "      <td>NaN</td>\n",
       "      <td>0.254655</td>\n",
       "      <td>-216774.065012</td>\n",
       "      <td>NaN</td>\n",
       "      <td>NaN</td>\n",
       "    </tr>\n",
       "    <tr>\n",
       "      <th>std</th>\n",
       "      <td>NaN</td>\n",
       "      <td>NaN</td>\n",
       "      <td>17.332958</td>\n",
       "      <td>1.583315</td>\n",
       "      <td>0.873931</td>\n",
       "      <td>NaN</td>\n",
       "      <td>0.381788</td>\n",
       "      <td>84310.212784</td>\n",
       "      <td>NaN</td>\n",
       "      <td>NaN</td>\n",
       "    </tr>\n",
       "    <tr>\n",
       "      <th>min</th>\n",
       "      <td>NaN</td>\n",
       "      <td>NaN</td>\n",
       "      <td>5.000000</td>\n",
       "      <td>0.000000</td>\n",
       "      <td>-4.037959</td>\n",
       "      <td>NaN</td>\n",
       "      <td>0.000000</td>\n",
       "      <td>-389551.722266</td>\n",
       "      <td>NaN</td>\n",
       "      <td>NaN</td>\n",
       "    </tr>\n",
       "    <tr>\n",
       "      <th>25%</th>\n",
       "      <td>NaN</td>\n",
       "      <td>NaN</td>\n",
       "      <td>5.000000</td>\n",
       "      <td>0.000000</td>\n",
       "      <td>-2.852174</td>\n",
       "      <td>NaN</td>\n",
       "      <td>0.020229</td>\n",
       "      <td>-275156.209412</td>\n",
       "      <td>NaN</td>\n",
       "      <td>NaN</td>\n",
       "    </tr>\n",
       "    <tr>\n",
       "      <th>50%</th>\n",
       "      <td>NaN</td>\n",
       "      <td>NaN</td>\n",
       "      <td>10.000000</td>\n",
       "      <td>0.178650</td>\n",
       "      <td>-2.313297</td>\n",
       "      <td>NaN</td>\n",
       "      <td>0.089209</td>\n",
       "      <td>-223169.429140</td>\n",
       "      <td>NaN</td>\n",
       "      <td>NaN</td>\n",
       "    </tr>\n",
       "    <tr>\n",
       "      <th>75%</th>\n",
       "      <td>NaN</td>\n",
       "      <td>NaN</td>\n",
       "      <td>20.000000</td>\n",
       "      <td>2.398700</td>\n",
       "      <td>-1.628712</td>\n",
       "      <td>NaN</td>\n",
       "      <td>0.357985</td>\n",
       "      <td>-157125.807553</td>\n",
       "      <td>NaN</td>\n",
       "      <td>NaN</td>\n",
       "    </tr>\n",
       "    <tr>\n",
       "      <th>max</th>\n",
       "      <td>NaN</td>\n",
       "      <td>NaN</td>\n",
       "      <td>240.000000</td>\n",
       "      <td>5.831800</td>\n",
       "      <td>1.978078</td>\n",
       "      <td>NaN</td>\n",
       "      <td>4.155444</td>\n",
       "      <td>190830.024717</td>\n",
       "      <td>NaN</td>\n",
       "      <td>NaN</td>\n",
       "    </tr>\n",
       "  </tbody>\n",
       "</table>\n",
       "</div>"
      ],
      "text/plain": [
       "           task_id pretty_formula       nsites     band_gap  \\\n",
       "count         2398           2398  2398.000000  2398.000000   \n",
       "unique        2398           1311          NaN          NaN   \n",
       "top     mp-1298361         MgSiO3          NaN          NaN   \n",
       "freq             1             33          NaN          NaN   \n",
       "mean           NaN            NaN    16.695163     1.228029   \n",
       "std            NaN            NaN    17.332958     1.583315   \n",
       "min            NaN            NaN     5.000000     0.000000   \n",
       "25%            NaN            NaN     5.000000     0.000000   \n",
       "50%            NaN            NaN    10.000000     0.178650   \n",
       "75%            NaN            NaN    20.000000     2.398700   \n",
       "max            NaN            NaN   240.000000     5.831800   \n",
       "\n",
       "        formation_energy_per_atom icsd_ids  e_above_hull  \\\n",
       "count                 2398.000000     2398   2398.000000   \n",
       "unique                        NaN      866           NaN   \n",
       "top                           NaN       []           NaN   \n",
       "freq                          NaN     1533           NaN   \n",
       "mean                    -2.247005      NaN      0.254655   \n",
       "std                      0.873931      NaN      0.381788   \n",
       "min                     -4.037959      NaN      0.000000   \n",
       "25%                     -2.852174      NaN      0.020229   \n",
       "50%                     -2.313297      NaN      0.089209   \n",
       "75%                     -1.628712      NaN      0.357985   \n",
       "max                      1.978078      NaN      4.155444   \n",
       "\n",
       "        molar_formation_energy_per_atom stability metallic_character  \n",
       "count                       2398.000000      2398               2398  \n",
       "unique                              NaN         2                  3  \n",
       "top                                 NaN  unstable           metallic  \n",
       "freq                                NaN      1678               1122  \n",
       "mean                     -216774.065012       NaN                NaN  \n",
       "std                        84310.212784       NaN                NaN  \n",
       "min                      -389551.722266       NaN                NaN  \n",
       "25%                      -275156.209412       NaN                NaN  \n",
       "50%                      -223169.429140       NaN                NaN  \n",
       "75%                      -157125.807553       NaN                NaN  \n",
       "max                       190830.024717       NaN                NaN  "
      ]
     },
     "execution_count": 26,
     "metadata": {},
     "output_type": "execute_result"
    }
   ],
   "source": [
    "mats_df_updated.describe(include='all')"
   ]
  },
  {
   "cell_type": "code",
   "execution_count": 27,
   "metadata": {},
   "outputs": [],
   "source": [
    "#create table of compounds in each category\n",
    "cat_dict = {}\n",
    "for i in range(0,len(mats_df_updated['metallic_character'])):\n",
    "        category = mats_df_updated['metallic_character'][i] + ', ' + mats_df_updated['stability'][i]\n",
    "        if category in cat_dict:\n",
    "            cat_dict[category] += 1\n",
    "        else:\n",
    "            cat_dict[category] = 1"
   ]
  },
  {
   "cell_type": "markdown",
   "metadata": {},
   "source": [
    "**answer to Q1.5**"
   ]
  },
  {
   "cell_type": "code",
   "execution_count": 28,
   "metadata": {},
   "outputs": [
    {
     "name": "stdout",
     "output_type": "stream",
     "text": [
      "{'large band gap, stable': 486,\n",
      " 'large band gap, unstable': 477,\n",
      " 'metallic, stable': 144,\n",
      " 'metallic, unstable': 978,\n",
      " 'small band gap, stable': 90,\n",
      " 'small band gap, unstable': 223}\n"
     ]
    }
   ],
   "source": [
    "pprint(cat_dict)"
   ]
  },
  {
   "cell_type": "code",
   "execution_count": 29,
   "metadata": {},
   "outputs": [
    {
     "name": "stdout",
     "output_type": "stream",
     "text": [
      "2398\n"
     ]
    }
   ],
   "source": [
    "sum = 0\n",
    "for i in cat_dict:\n",
    "    sum += cat_dict[i]\n",
    "print(sum)"
   ]
  },
  {
   "cell_type": "markdown",
   "metadata": {},
   "source": [
    "## Q1.6"
   ]
  },
  {
   "cell_type": "code",
   "execution_count": 30,
   "metadata": {},
   "outputs": [
    {
     "data": {
      "text/plain": [
       "[Text(0, 0.5, 'count'), Text(0.5, 0, 'Formation Energy (eV/atom)')]"
      ]
     },
     "execution_count": 30,
     "metadata": {},
     "output_type": "execute_result"
    },
    {
     "data": {
      "image/png": "[encoded data removed]",
      "text/plain": [
       "<Figure size 432x288 with 1 Axes>"
      ]
     },
     "metadata": {
      "needs_background": "light"
     },
     "output_type": "display_data"
    }
   ],
   "source": [
    "e_form = sns.distplot(mats_df_updated[\"formation_energy_per_atom\"], kde=False)\n",
    "e_form.set(xlabel = 'Formation Energy (eV/atom)',\n",
    "          ylabel = 'count')"
   ]
  },
  {
   "cell_type": "code",
   "execution_count": 31,
   "metadata": {},
   "outputs": [
    {
     "data": {
      "text/plain": [
       "[Text(0, 0.5, 'count'), Text(0.5, 0, 'Band Gap (eV)')]"
      ]
     },
     "execution_count": 31,
     "metadata": {},
     "output_type": "execute_result"
    },
    {
     "data": {
      "image/png": "[encoded data removed]",
      "text/plain": [
       "<Figure size 432x288 with 1 Axes>"
      ]
     },
     "metadata": {
      "needs_background": "light"
     },
     "output_type": "display_data"
    }
   ],
   "source": [
    "bg_plot = sns.distplot(mats_df_updated[\"band_gap\"], kde=False)\n",
    "bg_plot.set(xlabel = 'Band Gap (eV)',\n",
    "          ylabel = 'count')"
   ]
  },
  {
   "cell_type": "markdown",
   "metadata": {},
   "source": [
    "## Q2 - Publicly available research data\n",
    "\n",
    "## Q2.1"
   ]
  },
  {
   "cell_type": "code",
   "execution_count": 32,
   "metadata": {},
   "outputs": [],
   "source": [
    "url=\"https://ndownloader.figshare.com/files/9158587\"\n",
    "raw = requests.get(url).text\n",
    "OQMD_data = pd.read_csv(StringIO(raw))"
   ]
  },
  {
   "cell_type": "code",
   "execution_count": 33,
   "metadata": {},
   "outputs": [
    {
     "data": {
      "text/html": [
       "<div>\n",
       "<style scoped>\n",
       "    .dataframe tbody tr th:only-of-type {\n",
       "        vertical-align: middle;\n",
       "    }\n",
       "\n",
       "    .dataframe tbody tr th {\n",
       "        vertical-align: top;\n",
       "    }\n",
       "\n",
       "    .dataframe thead th {\n",
       "        text-align: right;\n",
       "    }\n",
       "</style>\n",
       "<table border=\"1\" class=\"dataframe\">\n",
       "  <thead>\n",
       "    <tr style=\"text-align: right;\">\n",
       "      <th></th>\n",
       "      <th>Chemical formula</th>\n",
       "      <th>A</th>\n",
       "      <th>B</th>\n",
       "      <th>In literature</th>\n",
       "      <th>Valence A</th>\n",
       "      <th>Valence B</th>\n",
       "      <th>Radius A [ang]</th>\n",
       "      <th>Radius B [ang]</th>\n",
       "      <th>Lowest distortion</th>\n",
       "      <th>Formation energy [eV/atom]</th>\n",
       "      <th>...</th>\n",
       "      <th>Magnetic moment [mu_B]</th>\n",
       "      <th>Volume per atom [A^3/atom]</th>\n",
       "      <th>Band gap [eV]</th>\n",
       "      <th>a [ang]</th>\n",
       "      <th>b [ang]</th>\n",
       "      <th>c [ang]</th>\n",
       "      <th>alpha [deg]</th>\n",
       "      <th>beta [deg]</th>\n",
       "      <th>gamma [deg]</th>\n",
       "      <th>Vacancy energy [eV/O atom]</th>\n",
       "    </tr>\n",
       "  </thead>\n",
       "  <tbody>\n",
       "    <tr>\n",
       "      <th>count</th>\n",
       "      <td>5329</td>\n",
       "      <td>5329</td>\n",
       "      <td>5329</td>\n",
       "      <td>5329</td>\n",
       "      <td>5329</td>\n",
       "      <td>5329</td>\n",
       "      <td>5329.000000</td>\n",
       "      <td>5329.000000</td>\n",
       "      <td>5329</td>\n",
       "      <td>5329</td>\n",
       "      <td>...</td>\n",
       "      <td>5329</td>\n",
       "      <td>5329</td>\n",
       "      <td>5329</td>\n",
       "      <td>5329</td>\n",
       "      <td>5329</td>\n",
       "      <td>5329</td>\n",
       "      <td>5329</td>\n",
       "      <td>5329</td>\n",
       "      <td>5329</td>\n",
       "      <td>5329</td>\n",
       "    </tr>\n",
       "    <tr>\n",
       "      <th>unique</th>\n",
       "      <td>5329</td>\n",
       "      <td>73</td>\n",
       "      <td>73</td>\n",
       "      <td>2</td>\n",
       "      <td>7</td>\n",
       "      <td>7</td>\n",
       "      <td>NaN</td>\n",
       "      <td>NaN</td>\n",
       "      <td>5</td>\n",
       "      <td>2847</td>\n",
       "      <td>...</td>\n",
       "      <td>910</td>\n",
       "      <td>4082</td>\n",
       "      <td>945</td>\n",
       "      <td>2142</td>\n",
       "      <td>2145</td>\n",
       "      <td>2581</td>\n",
       "      <td>125</td>\n",
       "      <td>126</td>\n",
       "      <td>124</td>\n",
       "      <td>4157</td>\n",
       "    </tr>\n",
       "    <tr>\n",
       "      <th>top</th>\n",
       "      <td>SbKO3</td>\n",
       "      <td>B</td>\n",
       "      <td>B</td>\n",
       "      <td>False</td>\n",
       "      <td>not balanced</td>\n",
       "      <td>not balanced</td>\n",
       "      <td>NaN</td>\n",
       "      <td>NaN</td>\n",
       "      <td>cubic</td>\n",
       "      <td>-</td>\n",
       "      <td>...</td>\n",
       "      <td>0.000</td>\n",
       "      <td>-</td>\n",
       "      <td>0.000</td>\n",
       "      <td>-</td>\n",
       "      <td>-</td>\n",
       "      <td>-</td>\n",
       "      <td>90.0</td>\n",
       "      <td>90.0</td>\n",
       "      <td>90.0</td>\n",
       "      <td>-</td>\n",
       "    </tr>\n",
       "    <tr>\n",
       "      <th>freq</th>\n",
       "      <td>1</td>\n",
       "      <td>73</td>\n",
       "      <td>73</td>\n",
       "      <td>5107</td>\n",
       "      <td>1881</td>\n",
       "      <td>1881</td>\n",
       "      <td>NaN</td>\n",
       "      <td>NaN</td>\n",
       "      <td>3253</td>\n",
       "      <td>53</td>\n",
       "      <td>...</td>\n",
       "      <td>1148</td>\n",
       "      <td>53</td>\n",
       "      <td>4132</td>\n",
       "      <td>53</td>\n",
       "      <td>53</td>\n",
       "      <td>53</td>\n",
       "      <td>4953</td>\n",
       "      <td>4953</td>\n",
       "      <td>4953</td>\n",
       "      <td>415</td>\n",
       "    </tr>\n",
       "    <tr>\n",
       "      <th>mean</th>\n",
       "      <td>NaN</td>\n",
       "      <td>NaN</td>\n",
       "      <td>NaN</td>\n",
       "      <td>NaN</td>\n",
       "      <td>NaN</td>\n",
       "      <td>NaN</td>\n",
       "      <td>0.974656</td>\n",
       "      <td>0.817846</td>\n",
       "      <td>NaN</td>\n",
       "      <td>NaN</td>\n",
       "      <td>...</td>\n",
       "      <td>NaN</td>\n",
       "      <td>NaN</td>\n",
       "      <td>NaN</td>\n",
       "      <td>NaN</td>\n",
       "      <td>NaN</td>\n",
       "      <td>NaN</td>\n",
       "      <td>NaN</td>\n",
       "      <td>NaN</td>\n",
       "      <td>NaN</td>\n",
       "      <td>NaN</td>\n",
       "    </tr>\n",
       "    <tr>\n",
       "      <th>std</th>\n",
       "      <td>NaN</td>\n",
       "      <td>NaN</td>\n",
       "      <td>NaN</td>\n",
       "      <td>NaN</td>\n",
       "      <td>NaN</td>\n",
       "      <td>NaN</td>\n",
       "      <td>0.337139</td>\n",
       "      <td>0.247479</td>\n",
       "      <td>NaN</td>\n",
       "      <td>NaN</td>\n",
       "      <td>...</td>\n",
       "      <td>NaN</td>\n",
       "      <td>NaN</td>\n",
       "      <td>NaN</td>\n",
       "      <td>NaN</td>\n",
       "      <td>NaN</td>\n",
       "      <td>NaN</td>\n",
       "      <td>NaN</td>\n",
       "      <td>NaN</td>\n",
       "      <td>NaN</td>\n",
       "      <td>NaN</td>\n",
       "    </tr>\n",
       "    <tr>\n",
       "      <th>min</th>\n",
       "      <td>NaN</td>\n",
       "      <td>NaN</td>\n",
       "      <td>NaN</td>\n",
       "      <td>NaN</td>\n",
       "      <td>NaN</td>\n",
       "      <td>NaN</td>\n",
       "      <td>0.270000</td>\n",
       "      <td>0.270000</td>\n",
       "      <td>NaN</td>\n",
       "      <td>NaN</td>\n",
       "      <td>...</td>\n",
       "      <td>NaN</td>\n",
       "      <td>NaN</td>\n",
       "      <td>NaN</td>\n",
       "      <td>NaN</td>\n",
       "      <td>NaN</td>\n",
       "      <td>NaN</td>\n",
       "      <td>NaN</td>\n",
       "      <td>NaN</td>\n",
       "      <td>NaN</td>\n",
       "      <td>NaN</td>\n",
       "    </tr>\n",
       "    <tr>\n",
       "      <th>25%</th>\n",
       "      <td>NaN</td>\n",
       "      <td>NaN</td>\n",
       "      <td>NaN</td>\n",
       "      <td>NaN</td>\n",
       "      <td>NaN</td>\n",
       "      <td>NaN</td>\n",
       "      <td>0.690000</td>\n",
       "      <td>0.630000</td>\n",
       "      <td>NaN</td>\n",
       "      <td>NaN</td>\n",
       "      <td>...</td>\n",
       "      <td>NaN</td>\n",
       "      <td>NaN</td>\n",
       "      <td>NaN</td>\n",
       "      <td>NaN</td>\n",
       "      <td>NaN</td>\n",
       "      <td>NaN</td>\n",
       "      <td>NaN</td>\n",
       "      <td>NaN</td>\n",
       "      <td>NaN</td>\n",
       "      <td>NaN</td>\n",
       "    </tr>\n",
       "    <tr>\n",
       "      <th>50%</th>\n",
       "      <td>NaN</td>\n",
       "      <td>NaN</td>\n",
       "      <td>NaN</td>\n",
       "      <td>NaN</td>\n",
       "      <td>NaN</td>\n",
       "      <td>NaN</td>\n",
       "      <td>0.930000</td>\n",
       "      <td>0.770000</td>\n",
       "      <td>NaN</td>\n",
       "      <td>NaN</td>\n",
       "      <td>...</td>\n",
       "      <td>NaN</td>\n",
       "      <td>NaN</td>\n",
       "      <td>NaN</td>\n",
       "      <td>NaN</td>\n",
       "      <td>NaN</td>\n",
       "      <td>NaN</td>\n",
       "      <td>NaN</td>\n",
       "      <td>NaN</td>\n",
       "      <td>NaN</td>\n",
       "      <td>NaN</td>\n",
       "    </tr>\n",
       "    <tr>\n",
       "      <th>75%</th>\n",
       "      <td>NaN</td>\n",
       "      <td>NaN</td>\n",
       "      <td>NaN</td>\n",
       "      <td>NaN</td>\n",
       "      <td>NaN</td>\n",
       "      <td>NaN</td>\n",
       "      <td>1.180000</td>\n",
       "      <td>0.950000</td>\n",
       "      <td>NaN</td>\n",
       "      <td>NaN</td>\n",
       "      <td>...</td>\n",
       "      <td>NaN</td>\n",
       "      <td>NaN</td>\n",
       "      <td>NaN</td>\n",
       "      <td>NaN</td>\n",
       "      <td>NaN</td>\n",
       "      <td>NaN</td>\n",
       "      <td>NaN</td>\n",
       "      <td>NaN</td>\n",
       "      <td>NaN</td>\n",
       "      <td>NaN</td>\n",
       "    </tr>\n",
       "    <tr>\n",
       "      <th>max</th>\n",
       "      <td>NaN</td>\n",
       "      <td>NaN</td>\n",
       "      <td>NaN</td>\n",
       "      <td>NaN</td>\n",
       "      <td>NaN</td>\n",
       "      <td>NaN</td>\n",
       "      <td>1.880000</td>\n",
       "      <td>1.670000</td>\n",
       "      <td>NaN</td>\n",
       "      <td>NaN</td>\n",
       "      <td>...</td>\n",
       "      <td>NaN</td>\n",
       "      <td>NaN</td>\n",
       "      <td>NaN</td>\n",
       "      <td>NaN</td>\n",
       "      <td>NaN</td>\n",
       "      <td>NaN</td>\n",
       "      <td>NaN</td>\n",
       "      <td>NaN</td>\n",
       "      <td>NaN</td>\n",
       "      <td>NaN</td>\n",
       "    </tr>\n",
       "  </tbody>\n",
       "</table>\n",
       "<p>11 rows × 21 columns</p>\n",
       "</div>"
      ],
      "text/plain": [
       "       Chemical formula     A     B In literature     Valence A     Valence B  \\\n",
       "count              5329  5329  5329          5329          5329          5329   \n",
       "unique             5329    73    73             2             7             7   \n",
       "top               SbKO3     B     B         False  not balanced  not balanced   \n",
       "freq                  1    73    73          5107          1881          1881   \n",
       "mean                NaN   NaN   NaN           NaN           NaN           NaN   \n",
       "std                 NaN   NaN   NaN           NaN           NaN           NaN   \n",
       "min                 NaN   NaN   NaN           NaN           NaN           NaN   \n",
       "25%                 NaN   NaN   NaN           NaN           NaN           NaN   \n",
       "50%                 NaN   NaN   NaN           NaN           NaN           NaN   \n",
       "75%                 NaN   NaN   NaN           NaN           NaN           NaN   \n",
       "max                 NaN   NaN   NaN           NaN           NaN           NaN   \n",
       "\n",
       "        Radius A [ang]  Radius B [ang] Lowest distortion  \\\n",
       "count      5329.000000     5329.000000              5329   \n",
       "unique             NaN             NaN                 5   \n",
       "top                NaN             NaN             cubic   \n",
       "freq               NaN             NaN              3253   \n",
       "mean          0.974656        0.817846               NaN   \n",
       "std           0.337139        0.247479               NaN   \n",
       "min           0.270000        0.270000               NaN   \n",
       "25%           0.690000        0.630000               NaN   \n",
       "50%           0.930000        0.770000               NaN   \n",
       "75%           1.180000        0.950000               NaN   \n",
       "max           1.880000        1.670000               NaN   \n",
       "\n",
       "       Formation energy [eV/atom]  ... Magnetic moment [mu_B]  \\\n",
       "count                        5329  ...                   5329   \n",
       "unique                       2847  ...                    910   \n",
       "top                             -  ...                  0.000   \n",
       "freq                           53  ...                   1148   \n",
       "mean                          NaN  ...                    NaN   \n",
       "std                           NaN  ...                    NaN   \n",
       "min                           NaN  ...                    NaN   \n",
       "25%                           NaN  ...                    NaN   \n",
       "50%                           NaN  ...                    NaN   \n",
       "75%                           NaN  ...                    NaN   \n",
       "max                           NaN  ...                    NaN   \n",
       "\n",
       "       Volume per atom [A^3/atom] Band gap [eV] a [ang] b [ang] c [ang]  \\\n",
       "count                        5329          5329    5329    5329    5329   \n",
       "unique                       4082           945    2142    2145    2581   \n",
       "top                             -         0.000       -       -       -   \n",
       "freq                           53          4132      53      53      53   \n",
       "mean                          NaN           NaN     NaN     NaN     NaN   \n",
       "std                           NaN           NaN     NaN     NaN     NaN   \n",
       "min                           NaN           NaN     NaN     NaN     NaN   \n",
       "25%                           NaN           NaN     NaN     NaN     NaN   \n",
       "50%                           NaN           NaN     NaN     NaN     NaN   \n",
       "75%                           NaN           NaN     NaN     NaN     NaN   \n",
       "max                           NaN           NaN     NaN     NaN     NaN   \n",
       "\n",
       "       alpha [deg] beta [deg] gamma [deg] Vacancy energy [eV/O atom]  \n",
       "count         5329       5329        5329                       5329  \n",
       "unique         125        126         124                       4157  \n",
       "top           90.0       90.0        90.0                          -  \n",
       "freq          4953       4953        4953                        415  \n",
       "mean           NaN        NaN         NaN                        NaN  \n",
       "std            NaN        NaN         NaN                        NaN  \n",
       "min            NaN        NaN         NaN                        NaN  \n",
       "25%            NaN        NaN         NaN                        NaN  \n",
       "50%            NaN        NaN         NaN                        NaN  \n",
       "75%            NaN        NaN         NaN                        NaN  \n",
       "max            NaN        NaN         NaN                        NaN  \n",
       "\n",
       "[11 rows x 21 columns]"
      ]
     },
     "execution_count": 33,
     "metadata": {},
     "output_type": "execute_result"
    }
   ],
   "source": [
    "OQMD_data.describe(include = 'all')"
   ]
  },
  {
   "cell_type": "markdown",
   "metadata": {},
   "source": [
    "## Q2.2"
   ]
  },
  {
   "cell_type": "code",
   "execution_count": 34,
   "metadata": {},
   "outputs": [
    {
     "data": {
      "text/plain": [
       "5329"
      ]
     },
     "execution_count": 34,
     "metadata": {},
     "output_type": "execute_result"
    }
   ],
   "source": [
    "len(OQMD_data['Chemical formula'])"
   ]
  },
  {
   "cell_type": "markdown",
   "metadata": {},
   "source": [
    "## Q2.3"
   ]
  },
  {
   "cell_type": "code",
   "execution_count": 35,
   "metadata": {},
   "outputs": [
    {
     "name": "stdout",
     "output_type": "stream",
     "text": [
      "Chemical formula\n",
      "A\n",
      "B\n",
      "In literature\n",
      "Valence A\n",
      "Valence B\n",
      "Radius A [ang]\n",
      "Radius B [ang]\n",
      "Lowest distortion\n",
      "Formation energy [eV/atom]\n",
      "Stability [eV/atom]\n",
      "Magnetic moment [mu_B]\n",
      "Volume per atom [A^3/atom]\n",
      "Band gap [eV]\n",
      "a [ang]\n",
      "b [ang]\n",
      "c [ang]\n",
      "alpha [deg]\n",
      "beta [deg]\n",
      "gamma [deg]\n",
      "Vacancy energy [eV/O atom]\n",
      "\n",
      "*total columns*  21\n"
     ]
    }
   ],
   "source": [
    "sum = 0\n",
    "for i in OQMD_data:\n",
    "    sum += 1\n",
    "    print(i)\n",
    "print('\\n*total columns* ', sum)"
   ]
  },
  {
   "cell_type": "markdown",
   "metadata": {},
   "source": [
    "## Q2.4"
   ]
  },
  {
   "cell_type": "code",
   "execution_count": 36,
   "metadata": {},
   "outputs": [
    {
     "data": {
      "text/plain": [
       "<bound method IndexOpsMixin.value_counts of 0       <class 'str'>\n",
       "1       <class 'str'>\n",
       "2       <class 'str'>\n",
       "3       <class 'str'>\n",
       "4       <class 'str'>\n",
       "            ...      \n",
       "5324    <class 'str'>\n",
       "5325    <class 'str'>\n",
       "5326    <class 'str'>\n",
       "5327    <class 'str'>\n",
       "5328    <class 'str'>\n",
       "Name: Formation energy [eV/atom], Length: 5329, dtype: object>"
      ]
     },
     "execution_count": 36,
     "metadata": {},
     "output_type": "execute_result"
    }
   ],
   "source": [
    "data_column = 'Formation energy [eV/atom]'\n",
    "OQMD_data[data_column].apply(type).value_counts"
   ]
  },
  {
   "cell_type": "code",
   "execution_count": 47,
   "metadata": {},
   "outputs": [
    {
     "name": "stdout",
     "output_type": "stream",
     "text": [
      "\n",
      "*total data points remaining*:  5276\n"
     ]
    }
   ],
   "source": [
    "#remove '-' characters\n",
    "clean_OQMD = (OQMD_data[OQMD_data[data_column] != '-'])\n",
    "clean_column = clean_OQMD[\"Formation energy [eV/atom]\"]\n",
    "#replace column of strings with column of floats\n",
    "wrangled_OQMD = clean_OQMD.drop(data_column, axis=1).join(clean_column.apply(pd.to_numeric))\n",
    "wrangled_OQMD.to_csv('dft_data.csv')\n",
    "print('\\n*total data points remaining*: ', len(wrangled_OQMD[\"Formation energy [eV/atom]\"]))"
   ]
  },
  {
   "cell_type": "markdown",
   "metadata": {},
   "source": [
    "## Q2.5"
   ]
  },
  {
   "cell_type": "code",
   "execution_count": 38,
   "metadata": {},
   "outputs": [
    {
     "data": {
      "text/plain": [
       "Text(0, 250, 'Mean: -1.68\\nStd: 0.98')"
      ]
     },
     "execution_count": 38,
     "metadata": {},
     "output_type": "execute_result"
    },
    {
     "data": {
      "image/png": "[encoded data removed]",
      "text/plain": [
       "<Figure size 432x288 with 1 Axes>"
      ]
     },
     "metadata": {
      "needs_background": "light"
     },
     "output_type": "display_data"
    }
   ],
   "source": [
    "e_form_2 = sns.distplot(wrangled_OQMD[\"Formation energy [eV/atom]\"], kde=False)\n",
    "e_form_2.set(ylabel = 'count')\n",
    "e_form_2.text(0,250,\"Mean: -1.68\\nStd: 0.98\")"
   ]
  },
  {
   "cell_type": "markdown",
   "metadata": {},
   "source": [
    "## Q3 - Comparing data sets\n",
    "\n",
    "## Q3.1"
   ]
  },
  {
   "cell_type": "code",
   "execution_count": 48,
   "metadata": {},
   "outputs": [
    {
     "name": "stdout",
     "output_type": "stream",
     "text": [
      "Unique shared formulas:  1196\n"
     ]
    }
   ],
   "source": [
    "mats = mats_df_updated['pretty_formula']\n",
    "oqmd = wrangled_OQMD['Chemical formula']\n",
    "print('Unique shared formulas: ', len(set(mats).intersection(oqmd)))"
   ]
  },
  {
   "cell_type": "code",
   "execution_count": 40,
   "metadata": {},
   "outputs": [
    {
     "data": {
      "text/plain": [
       "count    2114.000000\n",
       "mean       -2.063785\n",
       "std         0.887593\n",
       "min        -3.844000\n",
       "25%        -2.781000\n",
       "50%        -2.127000\n",
       "75%        -1.405500\n",
       "max         1.110000\n",
       "Name: Formation energy [eV/atom], dtype: float64"
      ]
     },
     "execution_count": 40,
     "metadata": {},
     "output_type": "execute_result"
    }
   ],
   "source": [
    "intersection = pd.merge(wrangled_OQMD,mats_df_updated,left_on=['Chemical formula'], \n",
    "         right_on=['pretty_formula'], how = \"inner\")\n",
    "intersection['Formation energy [eV/atom]'].describe()"
   ]
  },
  {
   "cell_type": "code",
   "execution_count": 41,
   "metadata": {},
   "outputs": [
    {
     "data": {
      "text/plain": [
       "count    2114.000000\n",
       "mean       -2.335170\n",
       "std         0.847051\n",
       "min        -4.037959\n",
       "25%        -2.934984\n",
       "50%        -2.387762\n",
       "75%        -1.746146\n",
       "max         1.978078\n",
       "Name: formation_energy_per_atom, dtype: float64"
      ]
     },
     "execution_count": 41,
     "metadata": {},
     "output_type": "execute_result"
    }
   ],
   "source": [
    "intersection['formation_energy_per_atom'].describe()"
   ]
  },
  {
   "cell_type": "code",
   "execution_count": 42,
   "metadata": {
    "scrolled": true
   },
   "outputs": [
    {
     "data": {
      "text/plain": [
       "Text(0, 110, 'OQMD:\\nMean=-2.06\\nStd=0.89')"
      ]
     },
     "execution_count": 42,
     "metadata": {},
     "output_type": "execute_result"
    },
    {
     "data": {
      "image/png": "[encoded data removed]",
      "text/plain": [
       "<Figure size 432x288 with 1 Axes>"
      ]
     },
     "metadata": {
      "needs_background": "light"
     },
     "output_type": "display_data"
    }
   ],
   "source": [
    "plot_mats_proj = sns.distplot(intersection['formation_energy_per_atom'], kde = False, axlabel = \"Formation Energy (eV/atom)\")\n",
    "plot_oqmd = sns.distplot(intersection['Formation energy [eV/atom]'], kde = False, axlabel = \"Formation Energy (eV/atom)\")\n",
    "plot_mats_proj.text(0,150,\"MP:\\nMean=-2.37\\nStd=0.85\", color=\"b\")\n",
    "plot_oqmd.text(0,110,\"OQMD:\\nMean=-2.06\\nStd=0.89\", color=\"g\")"
   ]
  },
  {
   "cell_type": "code",
   "execution_count": 43,
   "metadata": {},
   "outputs": [],
   "source": [
    "# Check variances to determine which t test to use"
   ]
  },
  {
   "cell_type": "code",
   "execution_count": 44,
   "metadata": {},
   "outputs": [
    {
     "data": {
      "text/plain": [
       "0.7171554507380089"
      ]
     },
     "execution_count": 44,
     "metadata": {},
     "output_type": "execute_result"
    }
   ],
   "source": [
    "np.var(intersection['formation_energy_per_atom'])"
   ]
  },
  {
   "cell_type": "code",
   "execution_count": 45,
   "metadata": {},
   "outputs": [
    {
     "data": {
      "text/plain": [
       "0.7874491137651499"
      ]
     },
     "execution_count": 45,
     "metadata": {},
     "output_type": "execute_result"
    }
   ],
   "source": [
    "np.var(intersection['Formation energy [eV/atom]'])"
   ]
  },
  {
   "cell_type": "code",
   "execution_count": 46,
   "metadata": {},
   "outputs": [
    {
     "data": {
      "text/plain": [
       "Ttest_indResult(statistic=10.170081089674078, pvalue=5.094696175640705e-24)"
      ]
     },
     "execution_count": 46,
     "metadata": {},
     "output_type": "execute_result"
    }
   ],
   "source": [
    "stats.ttest_ind(intersection['Formation energy [eV/atom]'], intersection['formation_energy_per_atom'], equal_var=False)"
   ]
  },
  {
   "cell_type": "markdown",
   "metadata": {},
   "source": [
    "**Conclusion**\n",
    "\n",
    "Given the low p-value of ~6e-29, we can conclude that there is a significant difference in the mean formation energy in these two data sets. It is possible that the DFT functionals used to compute the formation energies compounds in the OQMD database tend to underestimate the energy values relative to the values in the materials project. This would make sense assuming that the energies in the Mats Project are calculated individually while OQMD database values all go through the HT-DFT method, which might make some accuracy sacrifices for the sake of performance."
   ]
  }
 ],
 "metadata": {
  "kernelspec": {
   "display_name": "Python 3",
   "language": "python",
   "name": "python3"
  },
  "language_info": {
   "codemirror_mode": {
    "name": "ipython",
    "version": 3
   },
   "file_extension": ".py",
   "mimetype": "text/x-python",
   "name": "python",
   "nbconvert_exporter": "python",
   "pygments_lexer": "ipython3",
   "version": "3.7.9"
  }
 },
 "nbformat": 4,
 "nbformat_minor": 2
}
