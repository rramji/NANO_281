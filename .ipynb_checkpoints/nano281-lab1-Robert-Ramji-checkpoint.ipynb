{
 "cells": [
  {
   "cell_type": "markdown",
   "metadata": {},
   "source": [
    "**Robert's First Lab Assignment for Nano 281**"
   ]
  },
  {
   "cell_type": "code",
   "execution_count": 1,
   "metadata": {},
   "outputs": [
    {
     "ename": "ModuleNotFoundError",
     "evalue": "No module named 'pymatgen'",
     "output_type": "error",
     "traceback": [
      "\u001b[0;31m---------------------------------------------------------------------------\u001b[0m",
      "\u001b[0;31mModuleNotFoundError\u001b[0m                       Traceback (most recent call last)",
      "\u001b[0;32m<ipython-input-1-d702eb781b59>\u001b[0m in \u001b[0;36m<module>\u001b[0;34m\u001b[0m\n\u001b[0;32m----> 1\u001b[0;31m \u001b[0;32mfrom\u001b[0m \u001b[0mpymatgen\u001b[0m \u001b[0;32mimport\u001b[0m \u001b[0mMPRester\u001b[0m\u001b[0;34m\u001b[0m\u001b[0;34m\u001b[0m\u001b[0m\n\u001b[0m\u001b[1;32m      2\u001b[0m \u001b[0;32mfrom\u001b[0m \u001b[0mpprint\u001b[0m \u001b[0;32mimport\u001b[0m \u001b[0mpprint\u001b[0m\u001b[0;34m\u001b[0m\u001b[0;34m\u001b[0m\u001b[0m\n\u001b[1;32m      3\u001b[0m \u001b[0;32mimport\u001b[0m \u001b[0mpandas\u001b[0m \u001b[0;32mas\u001b[0m \u001b[0mpd\u001b[0m\u001b[0;34m\u001b[0m\u001b[0;34m\u001b[0m\u001b[0m\n",
      "\u001b[0;31mModuleNotFoundError\u001b[0m: No module named 'pymatgen'"
     ]
    }
   ],
   "source": [
    "from pymatgen import MPRester\n",
    "from pprint import pprint\n",
    "import pandas as pd"
   ]
  },
  {
   "cell_type": "code",
   "execution_count": null,
   "metadata": {},
   "outputs": [],
   "source": [
    "m = MPRester(\"Rxy9xMBBfweUTh2XbOv\")"
   ]
  },
  {
   "cell_type": "markdown",
   "metadata": {},
   "source": [
    "**Testing method of getting ABO3s**"
   ]
  },
  {
   "cell_type": "code",
   "execution_count": null,
   "metadata": {},
   "outputs": [],
   "source": [
    "test_data = m.get_data(\"**O3\", prop=\"pretty_formula\")\n",
    "pprint(test_data)"
   ]
  },
  {
   "cell_type": "code",
   "execution_count": null,
   "metadata": {},
   "outputs": [],
   "source": [
    "test_data2 = m.query(criteria=\"**O3\", properties=[\"pretty_formula\"])\n",
    "pprint(test_data2)"
   ]
  },
  {
   "cell_type": "markdown",
   "metadata": {},
   "source": [
    "**Checking code to get properties for one compound**"
   ]
  },
  {
   "cell_type": "code",
   "execution_count": null,
   "metadata": {},
   "outputs": [],
   "source": [
    "properties_list = [\"task_id\",\"pretty_formula\",\"nsites\",\"band_gap\",\"formation_energy_per_atom\",\"icsd_ids\",\"e_above_hull\"]\n",
    "test_data3 = m.query(criteria=\"LiNbO3\", properties=properties_list)\n",
    "pprint(test_data3)"
   ]
  },
  {
   "cell_type": "markdown",
   "metadata": {},
   "source": [
    "**Displaying the list of data columns that the materials project stores about compounds**\n",
    "\n",
    "This makes it easy to reference these properties by name"
   ]
  },
  {
   "cell_type": "code",
   "execution_count": null,
   "metadata": {},
   "outputs": [],
   "source": [
    "data1=m.get_data('Li2O')\n",
    "df1 = pd.DataFrame(data=data1)\n",
    "pprint(df1.columns)"
   ]
  },
  {
   "cell_type": "markdown",
   "metadata": {},
   "source": [
    "**Q1.1**\n",
    "\n",
    "*Running the command to get desired data for all ABO3 compounds*\n",
    "\n",
    "*Convert to Pandas Dataframe*"
   ]
  },
  {
   "cell_type": "code",
   "execution_count": null,
   "metadata": {},
   "outputs": [],
   "source": [
    "properties_list = [\"task_id\",\"pretty_formula\",\"nsites\",\"band_gap\",\"formation_energy_per_atom\",\"icsd_ids\",\"e_above_hull\"]\n",
    "mats_data = m.query(criteria=\"**O3\", properties=properties_list)\n",
    "mats_df = pd.DataFrame(data=mats_data)\n",
    "\n",
    "pprint(mats_data[0:5])\n",
    "mats_df.head(5)"
   ]
  },
  {
   "cell_type": "markdown",
   "metadata": {},
   "source": [
    "**Q1.2**\n",
    "\n",
    "*How many ABO3 compounds in total are there in the Materials Project?*\n",
    "\n",
    "*How many unique ABO3 formulae are there?*\n",
    "\n",
    "*What is the average number of crystals (also known as polymorphs) per ABO3 formula?*"
   ]
  },
  {
   "cell_type": "code",
   "execution_count": null,
   "metadata": {},
   "outputs": [],
   "source": [
    "len(mats_df.index)"
   ]
  },
  {
   "cell_type": "code",
   "execution_count": null,
   "metadata": {},
   "outputs": [],
   "source": [
    "formulae = mats_df['pretty_formula']\n",
    "unique_formulae = mats_df.groupby(['pretty_formula'])\n",
    "unique_formulae.size()"
   ]
  },
  {
   "cell_type": "code",
   "execution_count": null,
   "metadata": {},
   "outputs": [],
   "source": [
    "type(unique_formulae)"
   ]
  },
  {
   "cell_type": "code",
   "execution_count": null,
   "metadata": {},
   "outputs": [],
   "source": [
    "unique_formulae.count().mean()"
   ]
  },
  {
   "cell_type": "code",
   "execution_count": null,
   "metadata": {},
   "outputs": [],
   "source": [
    "unique = {}\n",
    "for i in formulae:\n",
    "    if i not in unique:\n",
    "        unique[i] = 1\n",
    "    else:\n",
    "        unique[i] += 1\n",
    "        \n",
    "length_unique = len(unique)\n",
    "length_total = len(mats_df.index)\n",
    "print(\"average polymorphs/formula: \",length_total/length_unique)"
   ]
  },
  {
   "cell_type": "code",
   "execution_count": null,
   "metadata": {},
   "outputs": [],
   "source": [
    "icsd = mats_df['icsd_ids']"
   ]
  },
  {
   "cell_type": "code",
   "execution_count": null,
   "metadata": {},
   "outputs": [],
   "source": [
    "mats_df.describe(include=\"all\")"
   ]
  },
  {
   "cell_type": "code",
   "execution_count": null,
   "metadata": {},
   "outputs": [],
   "source": [
    "icsds = []\n",
    "for i in mats_df['icsd_ids']:\n",
    "    if i:\n",
    "        icsds.append(i)\n",
    "len(icsds)"
   ]
  },
  {
   "cell_type": "code",
   "execution_count": null,
   "metadata": {},
   "outputs": [],
   "source": [
    "print(mats_data[1])\n",
    "print(mats_data[1]['formation_energy_per_atom'])"
   ]
  },
  {
   "cell_type": "code",
   "execution_count": null,
   "metadata": {},
   "outputs": [],
   "source": [
    "convert = 1.602e-19*6.022e23\n",
    "mats_data[1]['formation_energy_per_atom'] * convert"
   ]
  },
  {
   "cell_type": "code",
   "execution_count": null,
   "metadata": {},
   "outputs": [],
   "source": [
    "for i in mats_data:\n",
    "    i['molar_formation_energy_per_atom']=i['formation_energy_per_atom']*convert"
   ]
  },
  {
   "cell_type": "code",
   "execution_count": null,
   "metadata": {},
   "outputs": [],
   "source": [
    "print(mats_data[1])"
   ]
  },
  {
   "cell_type": "code",
   "execution_count": null,
   "metadata": {},
   "outputs": [],
   "source": [
    "mats_df_updated =  pd.DataFrame(data=mats_data)"
   ]
  },
  {
   "cell_type": "code",
   "execution_count": null,
   "metadata": {},
   "outputs": [],
   "source": [
    "mats_df_updated.describe()"
   ]
  },
  {
   "cell_type": "code",
   "execution_count": null,
   "metadata": {},
   "outputs": [],
   "source": [
    "mats_df_updated['e_above_hull']"
   ]
  },
  {
   "cell_type": "code",
   "execution_count": null,
   "metadata": {},
   "outputs": [],
   "source": [
    "stability = []\n",
    "for i in mats_df_updated['e_above_hull']:\n",
    "    if i > 0.03:\n",
    "        stability.append('unstable')\n",
    "        print(i, 'unstable')\n",
    "    elif i <= 0.03:\n",
    "        stability.append('stable')\n",
    "        print(i, 'stable')"
   ]
  },
  {
   "cell_type": "code",
   "execution_count": null,
   "metadata": {},
   "outputs": [],
   "source": [
    "mats_df_updated['stability'] = stability"
   ]
  },
  {
   "cell_type": "code",
   "execution_count": null,
   "metadata": {},
   "outputs": [],
   "source": [
    "mats_df_updated.describe(include='all')"
   ]
  },
  {
   "cell_type": "code",
   "execution_count": null,
   "metadata": {},
   "outputs": [],
   "source": [
    "metallic_character = []\n",
    "for i in mats_df_updated['band_gap']:\n",
    "    if i == 0:\n",
    "        metallicity.append('metallic')\n",
    "        print(i, 'metallic')\n",
    "    elif i > 0 and i < 1:\n",
    "        metallicity.append('small band gap')\n",
    "        print(i, 'small band gap')\n",
    "    elif i >= 1:\n",
    "        metallicity.append('large band gap')\n",
    "        print(i, 'large band gap')"
   ]
  },
  {
   "cell_type": "code",
   "execution_count": null,
   "metadata": {},
   "outputs": [],
   "source": [
    "mats_df_updated['metallic_character'] = metallic_character"
   ]
  },
  {
   "cell_type": "code",
   "execution_count": null,
   "metadata": {},
   "outputs": [],
   "source": []
  }
 ],
 "metadata": {
  "kernelspec": {
   "display_name": "Python 3",
   "language": "python",
   "name": "python3"
  },
  "language_info": {
   "codemirror_mode": {
    "name": "ipython",
    "version": 3
   },
   "file_extension": ".py",
   "mimetype": "text/x-python",
   "name": "python",
   "nbconvert_exporter": "python",
   "pygments_lexer": "ipython3",
   "version": "3.7.4"
  }
 },
 "nbformat": 4,
 "nbformat_minor": 2
}
