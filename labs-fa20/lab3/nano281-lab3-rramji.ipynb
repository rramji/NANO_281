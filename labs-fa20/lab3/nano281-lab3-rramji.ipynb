{
 "cells": [
  {
   "cell_type": "code",
   "execution_count": 1,
   "metadata": {},
   "outputs": [],
   "source": [
    "import pandas as pd\n",
    "import numpy as np\n",
    "from sklearn.model_selection import train_test_split, GridSearchCV, KFold\n",
    "from sklearn.tree import DecisionTreeClassifier\n",
    "from sklearn.experimental import enable_hist_gradient_boosting\n",
    "from sklearn.ensemble import HistGradientBoostingClassifier, RandomForestClassifier\n",
    "from sklearn.preprocessing import StandardScaler\n",
    "from sklearn.cluster import KMeans\n",
    "from scipy.cluster.vq import whiten\n",
    "from sklearn.decomposition import PCA\n",
    "from sklearn.metrics import mean_squared_error, accuracy_score, roc_curve, roc_auc_score\n",
    "from sklearn.neural_network import MLPClassifier, MLPRegressor"
   ]
  },
  {
   "cell_type": "code",
   "execution_count": 2,
   "metadata": {},
   "outputs": [],
   "source": [
    "xrd_data_raw = pd.read_csv(\"cod_xrd_42k.csv\")"
   ]
  },
  {
   "cell_type": "code",
   "execution_count": 3,
   "metadata": {},
   "outputs": [],
   "source": [
    "not_xrd = ['formula', 'spacegroup_number', 'cod_id', 'bravais_lattice']\n",
    "xrd = list(xrd_data_raw.columns)\n",
    "for i in not_xrd: xrd.remove(i) "
   ]
  },
  {
   "cell_type": "markdown",
   "metadata": {},
   "source": [
    "### Initial model testing zone"
   ]
  },
  {
   "cell_type": "code",
   "execution_count": 4,
   "metadata": {},
   "outputs": [],
   "source": [
    "train_subset_small = xrd_data_raw.sample(n=10000)\n",
    "small_X = train_subset_small[xrd]\n",
    "small_Y = train_subset_small['bravais_lattice']\n",
    "small_X_train, small_X_test, small_Y_train, small_Y_test = train_test_split(small_X, small_Y, test_size=0.2)"
   ]
  },
  {
   "cell_type": "code",
   "execution_count": 5,
   "metadata": {},
   "outputs": [
    {
     "name": "stdout",
     "output_type": "stream",
     "text": [
      "train accuracy: 0.609125 \n",
      "test accuracy: 0.335\n"
     ]
    }
   ],
   "source": [
    "small_tree = DecisionTreeClassifier(criterion='entropy', random_state = 42, max_depth = 10)\n",
    "small_tree.fit(small_X_train, small_Y_train)\n",
    "train = small_tree.score(small_X_train, small_Y_train)\n",
    "test = small_tree.score(small_X_test, small_Y_test)\n",
    "print('train accuracy:', train, \"\\ntest accuracy:\", test) "
   ]
  },
  {
   "cell_type": "markdown",
   "metadata": {},
   "source": [
    "Try ensemble learning:"
   ]
  },
  {
   "cell_type": "code",
   "execution_count": 6,
   "metadata": {},
   "outputs": [
    {
     "name": "stdout",
     "output_type": "stream",
     "text": [
      "train accuracy: 1.0 \n",
      "test accuracy: 0.4655\n"
     ]
    }
   ],
   "source": [
    "hgbt_small = HistGradientBoostingClassifier()\n",
    "hgbt_small.fit(small_X_train, small_Y_train)\n",
    "train = hgbt_small.score(small_X_train, small_Y_train)\n",
    "test = hgbt_small.score(small_X_test, small_Y_test)\n",
    "print('train accuracy:', train, \"\\ntest accuracy:\", test)"
   ]
  },
  {
   "cell_type": "markdown",
   "metadata": {},
   "source": [
    "Nice, solid initial accuracy. Let's try grouping the bravais lattices as crystal structures first and then classifying."
   ]
  },
  {
   "cell_type": "code",
   "execution_count": 52,
   "metadata": {},
   "outputs": [],
   "source": [
    "def xtal_from_bravais(bravais):\n",
    "    return bravais[0]"
   ]
  },
  {
   "cell_type": "code",
   "execution_count": 53,
   "metadata": {},
   "outputs": [],
   "source": [
    "test = 'tP'"
   ]
  },
  {
   "cell_type": "code",
   "execution_count": 54,
   "metadata": {},
   "outputs": [],
   "source": [
    "crystal_structure = xrd_data_raw['bravais_lattice'].apply(xtal_from_bravais)\n",
    "xrd_data_raw['crystal_structure'] = crystal_structure"
   ]
  },
  {
   "cell_type": "code",
   "execution_count": 55,
   "metadata": {},
   "outputs": [
    {
     "data": {
      "text/html": [
       "<div>\n",
       "<style scoped>\n",
       "    .dataframe tbody tr th:only-of-type {\n",
       "        vertical-align: middle;\n",
       "    }\n",
       "\n",
       "    .dataframe tbody tr th {\n",
       "        vertical-align: top;\n",
       "    }\n",
       "\n",
       "    .dataframe thead th {\n",
       "        text-align: right;\n",
       "    }\n",
       "</style>\n",
       "<table border=\"1\" class=\"dataframe\">\n",
       "  <thead>\n",
       "    <tr style=\"text-align: right;\">\n",
       "      <th></th>\n",
       "      <th>formula</th>\n",
       "      <th>spacegroup_number</th>\n",
       "      <th>cod_id</th>\n",
       "      <th>bravais_lattice</th>\n",
       "      <th>y0</th>\n",
       "      <th>y1</th>\n",
       "      <th>y2</th>\n",
       "      <th>y3</th>\n",
       "      <th>y4</th>\n",
       "      <th>y5</th>\n",
       "      <th>...</th>\n",
       "      <th>y171</th>\n",
       "      <th>y172</th>\n",
       "      <th>y173</th>\n",
       "      <th>y174</th>\n",
       "      <th>y175</th>\n",
       "      <th>y176</th>\n",
       "      <th>y177</th>\n",
       "      <th>y178</th>\n",
       "      <th>y179</th>\n",
       "      <th>crystal_structure</th>\n",
       "    </tr>\n",
       "  </thead>\n",
       "  <tbody>\n",
       "    <tr>\n",
       "      <th>0</th>\n",
       "      <td>H26C25N4ClO3F</td>\n",
       "      <td>2</td>\n",
       "      <td>2227539</td>\n",
       "      <td>aP</td>\n",
       "      <td>4.909847e-137</td>\n",
       "      <td>2.993258e-111</td>\n",
       "      <td>3.522734e-88</td>\n",
       "      <td>8.003409e-68</td>\n",
       "      <td>3.510182e-50</td>\n",
       "      <td>2.971966e-35</td>\n",
       "      <td>...</td>\n",
       "      <td>0.034702</td>\n",
       "      <td>2.624012e-02</td>\n",
       "      <td>0.018113</td>\n",
       "      <td>0.013302</td>\n",
       "      <td>0.019432</td>\n",
       "      <td>0.030183</td>\n",
       "      <td>1.792260e-02</td>\n",
       "      <td>2.285690e-02</td>\n",
       "      <td>6.056704e-03</td>\n",
       "      <td>a</td>\n",
       "    </tr>\n",
       "    <tr>\n",
       "      <th>1</th>\n",
       "      <td>CoP3H36C23</td>\n",
       "      <td>2</td>\n",
       "      <td>4085709</td>\n",
       "      <td>aP</td>\n",
       "      <td>3.391626e-189</td>\n",
       "      <td>1.235121e-158</td>\n",
       "      <td>8.683022e-131</td>\n",
       "      <td>1.178397e-105</td>\n",
       "      <td>3.087251e-83</td>\n",
       "      <td>1.561391e-63</td>\n",
       "      <td>...</td>\n",
       "      <td>0.013948</td>\n",
       "      <td>1.540255e-02</td>\n",
       "      <td>0.013787</td>\n",
       "      <td>0.022637</td>\n",
       "      <td>0.021859</td>\n",
       "      <td>0.020878</td>\n",
       "      <td>2.819485e-02</td>\n",
       "      <td>2.273572e-02</td>\n",
       "      <td>1.407936e-02</td>\n",
       "      <td>a</td>\n",
       "    </tr>\n",
       "    <tr>\n",
       "      <th>2</th>\n",
       "      <td>H34C34S2(N2O)3</td>\n",
       "      <td>2</td>\n",
       "      <td>2210818</td>\n",
       "      <td>aP</td>\n",
       "      <td>6.144995e-218</td>\n",
       "      <td>5.954486e-185</td>\n",
       "      <td>1.113850e-154</td>\n",
       "      <td>4.022243e-127</td>\n",
       "      <td>2.803945e-102</td>\n",
       "      <td>3.773377e-80</td>\n",
       "      <td>...</td>\n",
       "      <td>0.012785</td>\n",
       "      <td>9.240285e-03</td>\n",
       "      <td>0.013426</td>\n",
       "      <td>0.016862</td>\n",
       "      <td>0.025352</td>\n",
       "      <td>0.009457</td>\n",
       "      <td>8.136539e-03</td>\n",
       "      <td>6.792385e-03</td>\n",
       "      <td>4.124101e-03</td>\n",
       "      <td>a</td>\n",
       "    </tr>\n",
       "    <tr>\n",
       "      <th>3</th>\n",
       "      <td>P2H44Ru2C56N14Cl4O9.25F12</td>\n",
       "      <td>2</td>\n",
       "      <td>4312692</td>\n",
       "      <td>aP</td>\n",
       "      <td>4.146075e-83</td>\n",
       "      <td>1.397867e-63</td>\n",
       "      <td>9.098168e-47</td>\n",
       "      <td>1.143146e-32</td>\n",
       "      <td>2.772737e-21</td>\n",
       "      <td>1.298301e-12</td>\n",
       "      <td>...</td>\n",
       "      <td>0.009492</td>\n",
       "      <td>1.115840e-02</td>\n",
       "      <td>0.009486</td>\n",
       "      <td>0.009029</td>\n",
       "      <td>0.013752</td>\n",
       "      <td>0.011607</td>\n",
       "      <td>9.644470e-03</td>\n",
       "      <td>7.357005e-03</td>\n",
       "      <td>3.794003e-03</td>\n",
       "      <td>a</td>\n",
       "    </tr>\n",
       "    <tr>\n",
       "      <th>4</th>\n",
       "      <td>H22C23SN2O3</td>\n",
       "      <td>2</td>\n",
       "      <td>2208064</td>\n",
       "      <td>aP</td>\n",
       "      <td>1.760686e-259</td>\n",
       "      <td>2.249972e-223</td>\n",
       "      <td>5.550495e-190</td>\n",
       "      <td>2.643296e-159</td>\n",
       "      <td>2.430074e-131</td>\n",
       "      <td>4.312733e-106</td>\n",
       "      <td>...</td>\n",
       "      <td>0.023459</td>\n",
       "      <td>2.670221e-02</td>\n",
       "      <td>0.018699</td>\n",
       "      <td>0.016123</td>\n",
       "      <td>0.020445</td>\n",
       "      <td>0.021638</td>\n",
       "      <td>2.263004e-02</td>\n",
       "      <td>2.730744e-02</td>\n",
       "      <td>2.011791e-02</td>\n",
       "      <td>a</td>\n",
       "    </tr>\n",
       "    <tr>\n",
       "      <th>...</th>\n",
       "      <td>...</td>\n",
       "      <td>...</td>\n",
       "      <td>...</td>\n",
       "      <td>...</td>\n",
       "      <td>...</td>\n",
       "      <td>...</td>\n",
       "      <td>...</td>\n",
       "      <td>...</td>\n",
       "      <td>...</td>\n",
       "      <td>...</td>\n",
       "      <td>...</td>\n",
       "      <td>...</td>\n",
       "      <td>...</td>\n",
       "      <td>...</td>\n",
       "      <td>...</td>\n",
       "      <td>...</td>\n",
       "      <td>...</td>\n",
       "      <td>...</td>\n",
       "      <td>...</td>\n",
       "      <td>...</td>\n",
       "      <td>...</td>\n",
       "    </tr>\n",
       "    <tr>\n",
       "      <th>41809</th>\n",
       "      <td>Tl6SI4</td>\n",
       "      <td>128</td>\n",
       "      <td>4001792</td>\n",
       "      <td>tP</td>\n",
       "      <td>0.000000e+00</td>\n",
       "      <td>0.000000e+00</td>\n",
       "      <td>0.000000e+00</td>\n",
       "      <td>0.000000e+00</td>\n",
       "      <td>0.000000e+00</td>\n",
       "      <td>0.000000e+00</td>\n",
       "      <td>...</td>\n",
       "      <td>0.023300</td>\n",
       "      <td>1.362370e-02</td>\n",
       "      <td>0.006203</td>\n",
       "      <td>0.036890</td>\n",
       "      <td>0.013649</td>\n",
       "      <td>0.014576</td>\n",
       "      <td>6.339789e-03</td>\n",
       "      <td>3.360845e-03</td>\n",
       "      <td>7.636327e-06</td>\n",
       "      <td>t</td>\n",
       "    </tr>\n",
       "    <tr>\n",
       "      <th>41810</th>\n",
       "      <td>Tl6SeI4</td>\n",
       "      <td>128</td>\n",
       "      <td>4106340</td>\n",
       "      <td>tP</td>\n",
       "      <td>0.000000e+00</td>\n",
       "      <td>0.000000e+00</td>\n",
       "      <td>0.000000e+00</td>\n",
       "      <td>0.000000e+00</td>\n",
       "      <td>0.000000e+00</td>\n",
       "      <td>0.000000e+00</td>\n",
       "      <td>...</td>\n",
       "      <td>0.018503</td>\n",
       "      <td>9.520981e-03</td>\n",
       "      <td>0.013425</td>\n",
       "      <td>0.020926</td>\n",
       "      <td>0.005216</td>\n",
       "      <td>0.014517</td>\n",
       "      <td>2.479353e-03</td>\n",
       "      <td>2.820722e-04</td>\n",
       "      <td>3.640851e-04</td>\n",
       "      <td>t</td>\n",
       "    </tr>\n",
       "    <tr>\n",
       "      <th>41811</th>\n",
       "      <td>TlAuF6</td>\n",
       "      <td>92</td>\n",
       "      <td>1510149</td>\n",
       "      <td>tP</td>\n",
       "      <td>0.000000e+00</td>\n",
       "      <td>0.000000e+00</td>\n",
       "      <td>0.000000e+00</td>\n",
       "      <td>0.000000e+00</td>\n",
       "      <td>0.000000e+00</td>\n",
       "      <td>0.000000e+00</td>\n",
       "      <td>...</td>\n",
       "      <td>0.010852</td>\n",
       "      <td>1.153000e-01</td>\n",
       "      <td>0.070480</td>\n",
       "      <td>0.022257</td>\n",
       "      <td>0.057224</td>\n",
       "      <td>0.017475</td>\n",
       "      <td>3.080045e-02</td>\n",
       "      <td>1.403895e-02</td>\n",
       "      <td>2.332725e-02</td>\n",
       "      <td>t</td>\n",
       "    </tr>\n",
       "    <tr>\n",
       "      <th>41812</th>\n",
       "      <td>TlBO2</td>\n",
       "      <td>76</td>\n",
       "      <td>1511272</td>\n",
       "      <td>tP</td>\n",
       "      <td>0.000000e+00</td>\n",
       "      <td>0.000000e+00</td>\n",
       "      <td>0.000000e+00</td>\n",
       "      <td>0.000000e+00</td>\n",
       "      <td>0.000000e+00</td>\n",
       "      <td>0.000000e+00</td>\n",
       "      <td>...</td>\n",
       "      <td>0.023783</td>\n",
       "      <td>7.696171e-04</td>\n",
       "      <td>0.046177</td>\n",
       "      <td>0.036794</td>\n",
       "      <td>0.007691</td>\n",
       "      <td>0.034373</td>\n",
       "      <td>1.713273e-02</td>\n",
       "      <td>3.277940e-02</td>\n",
       "      <td>3.104092e-02</td>\n",
       "      <td>t</td>\n",
       "    </tr>\n",
       "    <tr>\n",
       "      <th>41813</th>\n",
       "      <td>TlF</td>\n",
       "      <td>129</td>\n",
       "      <td>1520825</td>\n",
       "      <td>tP</td>\n",
       "      <td>0.000000e+00</td>\n",
       "      <td>0.000000e+00</td>\n",
       "      <td>0.000000e+00</td>\n",
       "      <td>0.000000e+00</td>\n",
       "      <td>0.000000e+00</td>\n",
       "      <td>0.000000e+00</td>\n",
       "      <td>...</td>\n",
       "      <td>0.000279</td>\n",
       "      <td>3.359942e-07</td>\n",
       "      <td>0.003781</td>\n",
       "      <td>0.186246</td>\n",
       "      <td>0.017897</td>\n",
       "      <td>0.000003</td>\n",
       "      <td>1.271256e-12</td>\n",
       "      <td>9.982431e-22</td>\n",
       "      <td>1.735465e-33</td>\n",
       "      <td>t</td>\n",
       "    </tr>\n",
       "  </tbody>\n",
       "</table>\n",
       "<p>41814 rows × 185 columns</p>\n",
       "</div>"
      ],
      "text/plain": [
       "                         formula  spacegroup_number   cod_id bravais_lattice  \\\n",
       "0                  H26C25N4ClO3F                  2  2227539              aP   \n",
       "1                     CoP3H36C23                  2  4085709              aP   \n",
       "2                 H34C34S2(N2O)3                  2  2210818              aP   \n",
       "3      P2H44Ru2C56N14Cl4O9.25F12                  2  4312692              aP   \n",
       "4                    H22C23SN2O3                  2  2208064              aP   \n",
       "...                          ...                ...      ...             ...   \n",
       "41809                     Tl6SI4                128  4001792              tP   \n",
       "41810                    Tl6SeI4                128  4106340              tP   \n",
       "41811                     TlAuF6                 92  1510149              tP   \n",
       "41812                      TlBO2                 76  1511272              tP   \n",
       "41813                        TlF                129  1520825              tP   \n",
       "\n",
       "                  y0             y1             y2             y3  \\\n",
       "0      4.909847e-137  2.993258e-111   3.522734e-88   8.003409e-68   \n",
       "1      3.391626e-189  1.235121e-158  8.683022e-131  1.178397e-105   \n",
       "2      6.144995e-218  5.954486e-185  1.113850e-154  4.022243e-127   \n",
       "3       4.146075e-83   1.397867e-63   9.098168e-47   1.143146e-32   \n",
       "4      1.760686e-259  2.249972e-223  5.550495e-190  2.643296e-159   \n",
       "...              ...            ...            ...            ...   \n",
       "41809   0.000000e+00   0.000000e+00   0.000000e+00   0.000000e+00   \n",
       "41810   0.000000e+00   0.000000e+00   0.000000e+00   0.000000e+00   \n",
       "41811   0.000000e+00   0.000000e+00   0.000000e+00   0.000000e+00   \n",
       "41812   0.000000e+00   0.000000e+00   0.000000e+00   0.000000e+00   \n",
       "41813   0.000000e+00   0.000000e+00   0.000000e+00   0.000000e+00   \n",
       "\n",
       "                  y4             y5  ...      y171          y172      y173  \\\n",
       "0       3.510182e-50   2.971966e-35  ...  0.034702  2.624012e-02  0.018113   \n",
       "1       3.087251e-83   1.561391e-63  ...  0.013948  1.540255e-02  0.013787   \n",
       "2      2.803945e-102   3.773377e-80  ...  0.012785  9.240285e-03  0.013426   \n",
       "3       2.772737e-21   1.298301e-12  ...  0.009492  1.115840e-02  0.009486   \n",
       "4      2.430074e-131  4.312733e-106  ...  0.023459  2.670221e-02  0.018699   \n",
       "...              ...            ...  ...       ...           ...       ...   \n",
       "41809   0.000000e+00   0.000000e+00  ...  0.023300  1.362370e-02  0.006203   \n",
       "41810   0.000000e+00   0.000000e+00  ...  0.018503  9.520981e-03  0.013425   \n",
       "41811   0.000000e+00   0.000000e+00  ...  0.010852  1.153000e-01  0.070480   \n",
       "41812   0.000000e+00   0.000000e+00  ...  0.023783  7.696171e-04  0.046177   \n",
       "41813   0.000000e+00   0.000000e+00  ...  0.000279  3.359942e-07  0.003781   \n",
       "\n",
       "           y174      y175      y176          y177          y178          y179  \\\n",
       "0      0.013302  0.019432  0.030183  1.792260e-02  2.285690e-02  6.056704e-03   \n",
       "1      0.022637  0.021859  0.020878  2.819485e-02  2.273572e-02  1.407936e-02   \n",
       "2      0.016862  0.025352  0.009457  8.136539e-03  6.792385e-03  4.124101e-03   \n",
       "3      0.009029  0.013752  0.011607  9.644470e-03  7.357005e-03  3.794003e-03   \n",
       "4      0.016123  0.020445  0.021638  2.263004e-02  2.730744e-02  2.011791e-02   \n",
       "...         ...       ...       ...           ...           ...           ...   \n",
       "41809  0.036890  0.013649  0.014576  6.339789e-03  3.360845e-03  7.636327e-06   \n",
       "41810  0.020926  0.005216  0.014517  2.479353e-03  2.820722e-04  3.640851e-04   \n",
       "41811  0.022257  0.057224  0.017475  3.080045e-02  1.403895e-02  2.332725e-02   \n",
       "41812  0.036794  0.007691  0.034373  1.713273e-02  3.277940e-02  3.104092e-02   \n",
       "41813  0.186246  0.017897  0.000003  1.271256e-12  9.982431e-22  1.735465e-33   \n",
       "\n",
       "       crystal_structure  \n",
       "0                      a  \n",
       "1                      a  \n",
       "2                      a  \n",
       "3                      a  \n",
       "4                      a  \n",
       "...                  ...  \n",
       "41809                  t  \n",
       "41810                  t  \n",
       "41811                  t  \n",
       "41812                  t  \n",
       "41813                  t  \n",
       "\n",
       "[41814 rows x 185 columns]"
      ]
     },
     "execution_count": 55,
     "metadata": {},
     "output_type": "execute_result"
    }
   ],
   "source": [
    "xrd_data_raw"
   ]
  },
  {
   "cell_type": "markdown",
   "metadata": {},
   "source": [
    "### Let's try classifying by crystal structure first"
   ]
  },
  {
   "cell_type": "code",
   "execution_count": 64,
   "metadata": {},
   "outputs": [],
   "source": [
    "train_subset_small = xrd_data_raw.sample(n=10000)\n",
    "X = train_subset_small[xrd]\n",
    "Y = train_subset_small['crystal_structure']\n",
    "X_train, X_test, Y_train, Y_test = train_test_split(X, Y, test_size=0.2)"
   ]
  },
  {
   "cell_type": "code",
   "execution_count": 57,
   "metadata": {
    "scrolled": false
   },
   "outputs": [
    {
     "name": "stdout",
     "output_type": "stream",
     "text": [
      "train accuracy: 0.709875 \n",
      "test accuracy: 0.454\n"
     ]
    }
   ],
   "source": [
    "small_tree_xtal = DecisionTreeClassifier(criterion='entropy', random_state = 42, max_depth = 10)\n",
    "small_tree_xtal.fit(X_train, Y_train)\n",
    "train = small_tree_xtal.score(X_train, Y_train)\n",
    "test = small_tree_xtal.score(X_test, Y_test)\n",
    "print('train accuracy:', train, \"\\ntest accuracy:\", test) "
   ]
  },
  {
   "cell_type": "code",
   "execution_count": 65,
   "metadata": {},
   "outputs": [
    {
     "name": "stdout",
     "output_type": "stream",
     "text": [
      "train accuracy: 1.0 \n",
      "test accuracy: 0.5765\n"
     ]
    }
   ],
   "source": [
    "hgbt_small = HistGradientBoostingClassifier()\n",
    "hgbt_small.fit(X_train, Y_train)\n",
    "train = hgbt_small.score(X_train, Y_train)\n",
    "test = hgbt_small.score(X_test, Y_test)\n",
    "print('train accuracy:', train, \"\\ntest accuracy:\", test)"
   ]
  },
  {
   "cell_type": "code",
   "execution_count": 66,
   "metadata": {},
   "outputs": [
    {
     "name": "stdout",
     "output_type": "stream",
     "text": [
      "train accuracy: 0.9194583333333334 \n",
      "test accuracy: 0.6176666666666667\n"
     ]
    }
   ],
   "source": [
    "train_subset_large = xrd_data_raw.sample(n=30000)\n",
    "X = train_subset_large[xrd]\n",
    "Y = train_subset_large['crystal_structure']\n",
    "X_train, X_test, Y_train, Y_test = train_test_split(X, Y, test_size=0.2)\n",
    "hgbt_large = HistGradientBoostingClassifier()\n",
    "hgbt_large.fit(X_train, Y_train)\n",
    "train = hgbt_large.score(X_train, Y_train)\n",
    "test = hgbt_large.score(X_test, Y_test)\n",
    "print('train accuracy:', train, \"\\ntest accuracy:\", test)"
   ]
  },
  {
   "cell_type": "code",
   "execution_count": 58,
   "metadata": {},
   "outputs": [],
   "source": [
    "predictions = small_tree_xtal.predict(X_test)"
   ]
  },
  {
   "cell_type": "code",
   "execution_count": 59,
   "metadata": {},
   "outputs": [],
   "source": [
    "test_subset = xrd_data_raw.sample(n=10000)"
   ]
  },
  {
   "cell_type": "code",
   "execution_count": 60,
   "metadata": {},
   "outputs": [],
   "source": [
    "test_subset['predicted_crystal_structure'] = small_tree_xtal.predict(test_subset[xrd])"
   ]
  },
  {
   "cell_type": "code",
   "execution_count": 61,
   "metadata": {},
   "outputs": [
    {
     "data": {
      "text/plain": [
       "0.4869"
      ]
     },
     "execution_count": 61,
     "metadata": {},
     "output_type": "execute_result"
    }
   ],
   "source": [
    "from sklearn import metrics\n",
    "metrics.accuracy_score(test_subset['crystal_structure'], test_subset['predicted_crystal_structure'])"
   ]
  },
  {
   "cell_type": "code",
   "execution_count": 62,
   "metadata": {},
   "outputs": [
    {
     "data": {
      "text/plain": [
       "['y0',\n",
       " 'y1',\n",
       " 'y2',\n",
       " 'y3',\n",
       " 'y4',\n",
       " 'y5',\n",
       " 'y6',\n",
       " 'y7',\n",
       " 'y8',\n",
       " 'y9',\n",
       " 'y10',\n",
       " 'y11',\n",
       " 'y12',\n",
       " 'y13',\n",
       " 'y14',\n",
       " 'y15',\n",
       " 'y16',\n",
       " 'y17',\n",
       " 'y18',\n",
       " 'y19',\n",
       " 'y20',\n",
       " 'y21',\n",
       " 'y22',\n",
       " 'y23',\n",
       " 'y24',\n",
       " 'y25',\n",
       " 'y26',\n",
       " 'y27',\n",
       " 'y28',\n",
       " 'y29',\n",
       " 'y30',\n",
       " 'y31',\n",
       " 'y32',\n",
       " 'y33',\n",
       " 'y34',\n",
       " 'y35',\n",
       " 'y36',\n",
       " 'y37',\n",
       " 'y38',\n",
       " 'y39',\n",
       " 'y40',\n",
       " 'y41',\n",
       " 'y42',\n",
       " 'y43',\n",
       " 'y44',\n",
       " 'y45',\n",
       " 'y46',\n",
       " 'y47',\n",
       " 'y48',\n",
       " 'y49',\n",
       " 'y50',\n",
       " 'y51',\n",
       " 'y52',\n",
       " 'y53',\n",
       " 'y54',\n",
       " 'y55',\n",
       " 'y56',\n",
       " 'y57',\n",
       " 'y58',\n",
       " 'y59',\n",
       " 'y60',\n",
       " 'y61',\n",
       " 'y62',\n",
       " 'y63',\n",
       " 'y64',\n",
       " 'y65',\n",
       " 'y66',\n",
       " 'y67',\n",
       " 'y68',\n",
       " 'y69',\n",
       " 'y70',\n",
       " 'y71',\n",
       " 'y72',\n",
       " 'y73',\n",
       " 'y74',\n",
       " 'y75',\n",
       " 'y76',\n",
       " 'y77',\n",
       " 'y78',\n",
       " 'y79',\n",
       " 'y80',\n",
       " 'y81',\n",
       " 'y82',\n",
       " 'y83',\n",
       " 'y84',\n",
       " 'y85',\n",
       " 'y86',\n",
       " 'y87',\n",
       " 'y88',\n",
       " 'y89',\n",
       " 'y90',\n",
       " 'y91',\n",
       " 'y92',\n",
       " 'y93',\n",
       " 'y94',\n",
       " 'y95',\n",
       " 'y96',\n",
       " 'y97',\n",
       " 'y98',\n",
       " 'y99',\n",
       " 'y100',\n",
       " 'y101',\n",
       " 'y102',\n",
       " 'y103',\n",
       " 'y104',\n",
       " 'y105',\n",
       " 'y106',\n",
       " 'y107',\n",
       " 'y108',\n",
       " 'y109',\n",
       " 'y110',\n",
       " 'y111',\n",
       " 'y112',\n",
       " 'y113',\n",
       " 'y114',\n",
       " 'y115',\n",
       " 'y116',\n",
       " 'y117',\n",
       " 'y118',\n",
       " 'y119',\n",
       " 'y120',\n",
       " 'y121',\n",
       " 'y122',\n",
       " 'y123',\n",
       " 'y124',\n",
       " 'y125',\n",
       " 'y126',\n",
       " 'y127',\n",
       " 'y128',\n",
       " 'y129',\n",
       " 'y130',\n",
       " 'y131',\n",
       " 'y132',\n",
       " 'y133',\n",
       " 'y134',\n",
       " 'y135',\n",
       " 'y136',\n",
       " 'y137',\n",
       " 'y138',\n",
       " 'y139',\n",
       " 'y140',\n",
       " 'y141',\n",
       " 'y142',\n",
       " 'y143',\n",
       " 'y144',\n",
       " 'y145',\n",
       " 'y146',\n",
       " 'y147',\n",
       " 'y148',\n",
       " 'y149',\n",
       " 'y150',\n",
       " 'y151',\n",
       " 'y152',\n",
       " 'y153',\n",
       " 'y154',\n",
       " 'y155',\n",
       " 'y156',\n",
       " 'y157',\n",
       " 'y158',\n",
       " 'y159',\n",
       " 'y160',\n",
       " 'y161',\n",
       " 'y162',\n",
       " 'y163',\n",
       " 'y164',\n",
       " 'y165',\n",
       " 'y166',\n",
       " 'y167',\n",
       " 'y168',\n",
       " 'y169',\n",
       " 'y170',\n",
       " 'y171',\n",
       " 'y172',\n",
       " 'y173',\n",
       " 'y174',\n",
       " 'y175',\n",
       " 'y176',\n",
       " 'y177',\n",
       " 'y178',\n",
       " 'y179',\n",
       " 'predicted_crystal_structure']"
      ]
     },
     "execution_count": 62,
     "metadata": {},
     "output_type": "execute_result"
    }
   ],
   "source": [
    "xrdp = xrd + ['predicted_crystal_structure']\n",
    "xrdp"
   ]
  },
  {
   "cell_type": "code",
   "execution_count": 20,
   "metadata": {},
   "outputs": [],
   "source": [
    "xrdp"
   ]
  },
  {
   "cell_type": "code",
   "execution_count": 19,
   "metadata": {},
   "outputs": [
    {
     "data": {
      "text/plain": [
       "m    2385\n",
       "h    1862\n",
       "c    1653\n",
       "o    1580\n",
       "t    1429\n",
       "a    1091\n",
       "Name: predicted_crystal_structure, dtype: int64"
      ]
     },
     "execution_count": 19,
     "metadata": {},
     "output_type": "execute_result"
    }
   ],
   "source": [
    "test_subset['predicted_crystal_structure'].value_counts()"
   ]
  },
  {
   "cell_type": "code",
   "execution_count": 73,
   "metadata": {},
   "outputs": [
    {
     "name": "stdout",
     "output_type": "stream",
     "text": [
      "m\n",
      "h\n",
      "o\n",
      "c\n",
      "t\n",
      "a\n"
     ]
    }
   ],
   "source": [
    "counts = {}\n",
    "accuracies = {}\n",
    "for structure in test_subset['predicted_crystal_structure'].value_counts().index:\n",
    "    print(structure)\n",
    "    predictions = test_subset[test_subset['predicted_crystal_structure'] == structure]\n",
    "    counts[structure] = (predictions['crystal_structure'].value_counts())\n",
    "    accuracies[structure] = metrics.accuracy_score(predictions['crystal_structure'], predictions['predicted_crystal_structure'])"
   ]
  },
  {
   "cell_type": "code",
   "execution_count": 74,
   "metadata": {
    "scrolled": true
   },
   "outputs": [
    {
     "data": {
      "text/plain": [
       "{'m': 0.4240177909562639,\n",
       " 'h': 0.49545697487974344,\n",
       " 'o': 0.33524684270952926,\n",
       " 'c': 0.7327586206896551,\n",
       " 't': 0.4532476802284083,\n",
       " 'a': 0.5858433734939759}"
      ]
     },
     "execution_count": 74,
     "metadata": {},
     "output_type": "execute_result"
    }
   ],
   "source": [
    "accuracies"
   ]
  },
  {
   "cell_type": "code",
   "execution_count": 75,
   "metadata": {},
   "outputs": [
    {
     "data": {
      "text/plain": [
       "{'m': m    1144\n",
       " o     671\n",
       " a     475\n",
       " t     233\n",
       " h     153\n",
       " c      22\n",
       " Name: crystal_structure, dtype: int64,\n",
       " 'h': h    927\n",
       " t    373\n",
       " o    235\n",
       " c    212\n",
       " m    115\n",
       " a      9\n",
       " Name: crystal_structure, dtype: int64,\n",
       " 'o': o    584\n",
       " m    387\n",
       " h    300\n",
       " t    293\n",
       " a     91\n",
       " c     87\n",
       " Name: crystal_structure, dtype: int64,\n",
       " 'c': c    1190\n",
       " h     210\n",
       " t     144\n",
       " o      70\n",
       " m       8\n",
       " a       2\n",
       " Name: crystal_structure, dtype: int64,\n",
       " 't': t    635\n",
       " h    310\n",
       " o    196\n",
       " c    167\n",
       " m     72\n",
       " a     21\n",
       " Name: crystal_structure, dtype: int64,\n",
       " 'a': a    389\n",
       " m    176\n",
       " o     58\n",
       " h     22\n",
       " t     18\n",
       " c      1\n",
       " Name: crystal_structure, dtype: int64}"
      ]
     },
     "execution_count": 75,
     "metadata": {},
     "output_type": "execute_result"
    }
   ],
   "source": [
    "counts"
   ]
  },
  {
   "cell_type": "code",
   "execution_count": 90,
   "metadata": {
    "scrolled": true
   },
   "outputs": [
    {
     "data": {
      "text/plain": [
       "a      32\n",
       "m     195\n",
       "o     501\n",
       "t    1152\n",
       "h    1447\n",
       "c    1569\n",
       "Name: crystal_structure, dtype: int64"
      ]
     },
     "execution_count": 90,
     "metadata": {},
     "output_type": "execute_result"
    }
   ],
   "source": [
    "y = (counts['h'] + counts['t'] + counts['c']).sort_values()\n",
    "y"
   ]
  },
  {
   "cell_type": "code",
   "execution_count": 86,
   "metadata": {},
   "outputs": [
    {
     "data": {
      "text/plain": [
       "c     110\n",
       "h     475\n",
       "t     544\n",
       "a     955\n",
       "o    1313\n",
       "m    1707\n",
       "Name: crystal_structure, dtype: int64"
      ]
     },
     "execution_count": 86,
     "metadata": {},
     "output_type": "execute_result"
    }
   ],
   "source": [
    "x = (counts['o'] + counts['m'] + counts['a']).sort_values()\n",
    "x"
   ]
  },
  {
   "cell_type": "code",
   "execution_count": 87,
   "metadata": {},
   "outputs": [
    {
     "data": {
      "text/plain": [
       "1129"
      ]
     },
     "execution_count": 87,
     "metadata": {},
     "output_type": "execute_result"
    }
   ],
   "source": [
    "x['c'] + x['h'] + x['t']"
   ]
  },
  {
   "cell_type": "code",
   "execution_count": 88,
   "metadata": {},
   "outputs": [
    {
     "data": {
      "text/plain": [
       "3975"
      ]
     },
     "execution_count": 88,
     "metadata": {},
     "output_type": "execute_result"
    }
   ],
   "source": [
    "x['a'] + x['m'] + x['o']"
   ]
  },
  {
   "cell_type": "code",
   "execution_count": 89,
   "metadata": {},
   "outputs": [
    {
     "data": {
      "text/plain": [
       "0.7788009404388715"
      ]
     },
     "execution_count": 89,
     "metadata": {},
     "output_type": "execute_result"
    }
   ],
   "source": [
    "(x['a'] + x['m'] + x['o']) / (x['a'] + x['m'] + x['o'] + x['c'] + x['h'] + x['t'])"
   ]
  },
  {
   "cell_type": "code",
   "execution_count": 92,
   "metadata": {},
   "outputs": [
    {
     "data": {
      "text/plain": [
       "0.8513071895424836"
      ]
     },
     "execution_count": 92,
     "metadata": {},
     "output_type": "execute_result"
    }
   ],
   "source": [
    "(y['c'] + y['t'] + y['h']) / (y['a'] + y['m'] + y['o'] + y['c'] + y['h'] + y['t'])"
   ]
  },
  {
   "cell_type": "code",
   "execution_count": null,
   "metadata": {},
   "outputs": [],
   "source": []
  },
  {
   "cell_type": "code",
   "execution_count": null,
   "metadata": {},
   "outputs": [],
   "source": []
  },
  {
   "cell_type": "code",
   "execution_count": null,
   "metadata": {},
   "outputs": [],
   "source": []
  },
  {
   "cell_type": "code",
   "execution_count": null,
   "metadata": {},
   "outputs": [],
   "source": []
  },
  {
   "cell_type": "code",
   "execution_count": null,
   "metadata": {},
   "outputs": [],
   "source": []
  },
  {
   "cell_type": "code",
   "execution_count": null,
   "metadata": {},
   "outputs": [],
   "source": []
  },
  {
   "cell_type": "code",
   "execution_count": null,
   "metadata": {},
   "outputs": [],
   "source": []
  },
  {
   "cell_type": "markdown",
   "metadata": {},
   "source": [
    "hit it wit dat random forest"
   ]
  },
  {
   "cell_type": "code",
   "execution_count": null,
   "metadata": {},
   "outputs": [],
   "source": [
    "train_subset_large = xrd_data_raw.sample(n=40000)\n",
    "X = train_subset_large[xrd]\n",
    "Y = train_subset_large['bravais_lattice']\n",
    "X_train, X_test, Y_train, Y_test = train_test_split(X, Y, test_size=0.2)\n",
    "rf_improved = RandomForestClassifier(n_estimators= 2000, min_samples_split= 5, min_samples_leaf= 1, \n",
    "                                     max_features= 'sqrt', max_depth= 70, bootstrap= False)\n",
    "rf_improved.fit(X_train, Y_train)\n",
    "train = rf_improved.score(X_train, Y_train)\n",
    "test = rf_improved.score(X_test, Y_test)\n",
    "print('train accuracy:', train, \"\\ntest accuracy:\", test)"
   ]
  },
  {
   "cell_type": "code",
   "execution_count": null,
   "metadata": {},
   "outputs": [],
   "source": [
    "test = pd.read_csv('test.csv')\n",
    "test['output'] = rf_improved.predict(test[xrd])\n",
    "final_out = pd.DataFrame()\n",
    "final_out['bravais_lattice'] = test['output']\n",
    "final_out.to_csv('results_RF.csv', index_label='id')"
   ]
  },
  {
   "cell_type": "code",
   "execution_count": null,
   "metadata": {},
   "outputs": [],
   "source": [
    "final_out"
   ]
  },
  {
   "cell_type": "code",
   "execution_count": null,
   "metadata": {},
   "outputs": [],
   "source": []
  }
 ],
 "metadata": {
  "kernelspec": {
   "display_name": "Python 3",
   "language": "python",
   "name": "python3"
  },
  "language_info": {
   "codemirror_mode": {
    "name": "ipython",
    "version": 3
   },
   "file_extension": ".py",
   "mimetype": "text/x-python",
   "name": "python",
   "nbconvert_exporter": "python",
   "pygments_lexer": "ipython3",
   "version": "3.7.9"
  }
 },
 "nbformat": 4,
 "nbformat_minor": 4
}
